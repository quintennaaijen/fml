{
 "cells": [
  {
   "cell_type": "markdown",
   "metadata": {},
   "source": [
    "# FINAL ASSESMENT PREDICTING WHATSAPP"
   ]
  },
  {
   "cell_type": "markdown",
   "metadata": {},
   "source": [
    "This assignment is about a Group WhatsApp of a house with 12 residents. Each occupant is entitled to five years of living space in the house. After five years the occupant has to leave and is also removed from the WhatsApp group. This ensures that there is room for new younger boys to live in the house. The assignment consists of five parts. The first part is cleaning the data set in Excel. The second part consists of importing the data and cleaning the data in Jupyter Notebook. The third part of the assignment is the analysis of the data set. A general analysis that shows which group member is most active in the group and at which moments the group is most active. The fourth part will create a predictive model which is based on all the Group Members. The Naive Bayes model will predict which sentence fits which resident. The fifth and last part is about the evaluation of the model. "
   ]
  },
  {
   "cell_type": "markdown",
   "metadata": {},
   "source": [
    "# 1: Cleaning data in Excel\n"
   ]
  },
  {
   "cell_type": "markdown",
   "metadata": {},
   "source": [
    "The data is uploaded out of the group settings of WhatsApp in a .csv file. \n",
    "The following changes made in Excel: \n",
    "- Different columns for Data/Time/Group Member/Message instead of one big column. \n",
    "- Deleted useless columns. \n",
    "- Deleted empty rows.\n",
    "- 'send images' for members they send images. \n",
    "- Direct interactions changed in @'name'."
   ]
  },
  {
   "cell_type": "markdown",
   "metadata": {},
   "source": [
    "# 2: Import Data & Cleaning"
   ]
  },
  {
   "cell_type": "code",
   "execution_count": 30,
   "metadata": {},
   "outputs": [],
   "source": [
    "#Import importing libraries:\n",
    "import seaborn as sns #This is the plotting library.\n",
    "import pandas as pd #\"as pd\" means using the abbreviation in commands.\n",
    "import matplotlib.pyplot as plt #Setting the labels in the Seaborn graphs.\n",
    "from sklearn.feature_extraction.text import CountVectorizer #For the general text analysis.\n",
    "from sklearn.feature_extraction.text import TfidfVectorizer #For the general text analysis.\n",
    "from sklearn.model_selection import train_test_split #Tool for test and train the model.\n",
    "from sklearn.metrics import confusion_matrix #Confusion matrix.\n",
    "from sklearn.naive_bayes import MultinomialNB #This library helps to make an prediction model, Naive Bayes."
   ]
  },
  {
   "cell_type": "code",
   "execution_count": 31,
   "metadata": {},
   "outputs": [
    {
     "data": {
      "text/html": [
       "<div>\n",
       "<style scoped>\n",
       "    .dataframe tbody tr th:only-of-type {\n",
       "        vertical-align: middle;\n",
       "    }\n",
       "\n",
       "    .dataframe tbody tr th {\n",
       "        vertical-align: top;\n",
       "    }\n",
       "\n",
       "    .dataframe thead th {\n",
       "        text-align: right;\n",
       "    }\n",
       "</style>\n",
       "<table border=\"1\" class=\"dataframe\">\n",
       "  <thead>\n",
       "    <tr style=\"text-align: right;\">\n",
       "      <th></th>\n",
       "      <th>Date</th>\n",
       "      <th>Time</th>\n",
       "      <th>Group_Member</th>\n",
       "      <th>Message</th>\n",
       "    </tr>\n",
       "  </thead>\n",
       "  <tbody>\n",
       "    <tr>\n",
       "      <td>0</td>\n",
       "      <td>10/09/2018</td>\n",
       "      <td>10:04</td>\n",
       "      <td>Miguel Gonzalez</td>\n",
       "      <td>Mannen, morgen is de huisvergadering om 19</td>\n",
       "    </tr>\n",
       "    <tr>\n",
       "      <td>1</td>\n",
       "      <td>10/09/2018</td>\n",
       "      <td>11:50</td>\n",
       "      <td>Bart Stuyfzand</td>\n",
       "      <td>Wat gaan we als huisfoto doen</td>\n",
       "    </tr>\n",
       "    <tr>\n",
       "      <td>2</td>\n",
       "      <td>10/09/2018</td>\n",
       "      <td>11:50</td>\n",
       "      <td>Bart Stuyfzand</td>\n",
       "      <td>Want die moeten we voor de 14e al maken</td>\n",
       "    </tr>\n",
       "    <tr>\n",
       "      <td>3</td>\n",
       "      <td>10/09/2018</td>\n",
       "      <td>12:05</td>\n",
       "      <td>Miguel Gonzalez</td>\n",
       "      <td>Ik ben voor een normale huisfoto voor het huis</td>\n",
       "    </tr>\n",
       "    <tr>\n",
       "      <td>4</td>\n",
       "      <td>10/09/2018</td>\n",
       "      <td>12:05</td>\n",
       "      <td>Miguel Gonzalez</td>\n",
       "      <td>Maar als iemand dikke ideeën heeft...</td>\n",
       "    </tr>\n",
       "    <tr>\n",
       "      <td>5</td>\n",
       "      <td>10/09/2018</td>\n",
       "      <td>12:06</td>\n",
       "      <td>Bart Stuyfzand</td>\n",
       "      <td>Ik ben wel voor die foto met die tafel en dan...</td>\n",
       "    </tr>\n",
       "    <tr>\n",
       "      <td>6</td>\n",
       "      <td>10/09/2018</td>\n",
       "      <td>12:06</td>\n",
       "      <td>Timo Van De Wetering</td>\n",
       "      <td>Ik echt niet</td>\n",
       "    </tr>\n",
       "    <tr>\n",
       "      <td>7</td>\n",
       "      <td>10/09/2018</td>\n",
       "      <td>12:06</td>\n",
       "      <td>Bart Stuyfzand</td>\n",
       "      <td>Vgm was dat in het eerste jaar van Pim en Q</td>\n",
       "    </tr>\n",
       "    <tr>\n",
       "      <td>8</td>\n",
       "      <td>10/09/2018</td>\n",
       "      <td>12:06</td>\n",
       "      <td>Timo Van De Wetering</td>\n",
       "      <td>Die is saai man</td>\n",
       "    </tr>\n",
       "    <tr>\n",
       "      <td>9</td>\n",
       "      <td>10/09/2018</td>\n",
       "      <td>12:23</td>\n",
       "      <td>Quinten Naaijen</td>\n",
       "      <td>Ik normale huisfoto</td>\n",
       "    </tr>\n",
       "  </tbody>\n",
       "</table>\n",
       "</div>"
      ],
      "text/plain": [
       "         Date  Time          Group_Member   \\\n",
       "0  10/09/2018  10:04       Miguel Gonzalez   \n",
       "1  10/09/2018  11:50        Bart Stuyfzand   \n",
       "2  10/09/2018  11:50        Bart Stuyfzand   \n",
       "3  10/09/2018  12:05       Miguel Gonzalez   \n",
       "4  10/09/2018  12:05       Miguel Gonzalez   \n",
       "5  10/09/2018  12:06        Bart Stuyfzand   \n",
       "6  10/09/2018  12:06  Timo Van De Wetering   \n",
       "7  10/09/2018  12:06        Bart Stuyfzand   \n",
       "8  10/09/2018  12:06  Timo Van De Wetering   \n",
       "9  10/09/2018  12:23       Quinten Naaijen   \n",
       "\n",
       "                                            Message   \n",
       "0         Mannen, morgen is de huisvergadering om 19  \n",
       "1                      Wat gaan we als huisfoto doen  \n",
       "2            Want die moeten we voor de 14e al maken  \n",
       "3     Ik ben voor een normale huisfoto voor het huis  \n",
       "4              Maar als iemand dikke ideeën heeft...  \n",
       "5   Ik ben wel voor die foto met die tafel en dan...  \n",
       "6                                       Ik echt niet  \n",
       "7        Vgm was dat in het eerste jaar van Pim en Q  \n",
       "8                                    Die is saai man  \n",
       "9                                Ik normale huisfoto  "
      ]
     },
     "execution_count": 31,
     "metadata": {},
     "output_type": "execute_result"
    }
   ],
   "source": [
    "df = pd.read_csv('WhatsappBHV5.csv', delimiter = ';')#I choose this delimiter because the messages in the data set has commas in it. \n",
    "df.head(10)"
   ]
  },
  {
   "cell_type": "code",
   "execution_count": 32,
   "metadata": {},
   "outputs": [
    {
     "data": {
      "text/plain": [
       "Index(['Date', 'Time ', 'Group_Member ', 'Message '], dtype='object')"
      ]
     },
     "execution_count": 32,
     "metadata": {},
     "output_type": "execute_result"
    }
   ],
   "source": [
    "#Inspecting the column names if there are deviations:\n",
    "df.columns "
   ]
  },
  {
   "cell_type": "markdown",
   "metadata": {},
   "source": [
    "Change the column names, delete the space after the column names:"
   ]
  },
  {
   "cell_type": "code",
   "execution_count": 33,
   "metadata": {},
   "outputs": [
    {
     "data": {
      "text/html": [
       "<div>\n",
       "<style scoped>\n",
       "    .dataframe tbody tr th:only-of-type {\n",
       "        vertical-align: middle;\n",
       "    }\n",
       "\n",
       "    .dataframe tbody tr th {\n",
       "        vertical-align: top;\n",
       "    }\n",
       "\n",
       "    .dataframe thead th {\n",
       "        text-align: right;\n",
       "    }\n",
       "</style>\n",
       "<table border=\"1\" class=\"dataframe\">\n",
       "  <thead>\n",
       "    <tr style=\"text-align: right;\">\n",
       "      <th></th>\n",
       "      <th>Date</th>\n",
       "      <th>Time</th>\n",
       "      <th>Group_Member</th>\n",
       "      <th>Message</th>\n",
       "    </tr>\n",
       "  </thead>\n",
       "  <tbody>\n",
       "    <tr>\n",
       "      <td>0</td>\n",
       "      <td>10/09/2018</td>\n",
       "      <td>10:04</td>\n",
       "      <td>Miguel Gonzalez</td>\n",
       "      <td>Mannen, morgen is de huisvergadering om 19</td>\n",
       "    </tr>\n",
       "    <tr>\n",
       "      <td>1</td>\n",
       "      <td>10/09/2018</td>\n",
       "      <td>11:50</td>\n",
       "      <td>Bart Stuyfzand</td>\n",
       "      <td>Wat gaan we als huisfoto doen</td>\n",
       "    </tr>\n",
       "    <tr>\n",
       "      <td>2</td>\n",
       "      <td>10/09/2018</td>\n",
       "      <td>11:50</td>\n",
       "      <td>Bart Stuyfzand</td>\n",
       "      <td>Want die moeten we voor de 14e al maken</td>\n",
       "    </tr>\n",
       "    <tr>\n",
       "      <td>3</td>\n",
       "      <td>10/09/2018</td>\n",
       "      <td>12:05</td>\n",
       "      <td>Miguel Gonzalez</td>\n",
       "      <td>Ik ben voor een normale huisfoto voor het huis</td>\n",
       "    </tr>\n",
       "    <tr>\n",
       "      <td>4</td>\n",
       "      <td>10/09/2018</td>\n",
       "      <td>12:05</td>\n",
       "      <td>Miguel Gonzalez</td>\n",
       "      <td>Maar als iemand dikke ideeën heeft...</td>\n",
       "    </tr>\n",
       "    <tr>\n",
       "      <td>5</td>\n",
       "      <td>10/09/2018</td>\n",
       "      <td>12:06</td>\n",
       "      <td>Bart Stuyfzand</td>\n",
       "      <td>Ik ben wel voor die foto met die tafel en dan...</td>\n",
       "    </tr>\n",
       "    <tr>\n",
       "      <td>6</td>\n",
       "      <td>10/09/2018</td>\n",
       "      <td>12:06</td>\n",
       "      <td>Timo Van De Wetering</td>\n",
       "      <td>Ik echt niet</td>\n",
       "    </tr>\n",
       "    <tr>\n",
       "      <td>7</td>\n",
       "      <td>10/09/2018</td>\n",
       "      <td>12:06</td>\n",
       "      <td>Bart Stuyfzand</td>\n",
       "      <td>Vgm was dat in het eerste jaar van Pim en Q</td>\n",
       "    </tr>\n",
       "    <tr>\n",
       "      <td>8</td>\n",
       "      <td>10/09/2018</td>\n",
       "      <td>12:06</td>\n",
       "      <td>Timo Van De Wetering</td>\n",
       "      <td>Die is saai man</td>\n",
       "    </tr>\n",
       "    <tr>\n",
       "      <td>9</td>\n",
       "      <td>10/09/2018</td>\n",
       "      <td>12:23</td>\n",
       "      <td>Quinten Naaijen</td>\n",
       "      <td>Ik normale huisfoto</td>\n",
       "    </tr>\n",
       "  </tbody>\n",
       "</table>\n",
       "</div>"
      ],
      "text/plain": [
       "         Date   Time          Group_Member  \\\n",
       "0  10/09/2018  10:04       Miguel Gonzalez   \n",
       "1  10/09/2018  11:50        Bart Stuyfzand   \n",
       "2  10/09/2018  11:50        Bart Stuyfzand   \n",
       "3  10/09/2018  12:05       Miguel Gonzalez   \n",
       "4  10/09/2018  12:05       Miguel Gonzalez   \n",
       "5  10/09/2018  12:06        Bart Stuyfzand   \n",
       "6  10/09/2018  12:06  Timo Van De Wetering   \n",
       "7  10/09/2018  12:06        Bart Stuyfzand   \n",
       "8  10/09/2018  12:06  Timo Van De Wetering   \n",
       "9  10/09/2018  12:23       Quinten Naaijen   \n",
       "\n",
       "                                             Message  \n",
       "0         Mannen, morgen is de huisvergadering om 19  \n",
       "1                      Wat gaan we als huisfoto doen  \n",
       "2            Want die moeten we voor de 14e al maken  \n",
       "3     Ik ben voor een normale huisfoto voor het huis  \n",
       "4              Maar als iemand dikke ideeën heeft...  \n",
       "5   Ik ben wel voor die foto met die tafel en dan...  \n",
       "6                                       Ik echt niet  \n",
       "7        Vgm was dat in het eerste jaar van Pim en Q  \n",
       "8                                    Die is saai man  \n",
       "9                                Ik normale huisfoto  "
      ]
     },
     "execution_count": 33,
     "metadata": {},
     "output_type": "execute_result"
    }
   ],
   "source": [
    "#Change the column names, delete the space after the column names:\n",
    "df = df.rename(columns={'Time ': 'Time'})\n",
    "df = df.rename(columns={'Group_Member ': 'Group_Member'})\n",
    "df = df.rename(columns={'Message ': 'Message'})\n",
    "df.head(10)"
   ]
  },
  {
   "cell_type": "code",
   "execution_count": 34,
   "metadata": {},
   "outputs": [
    {
     "data": {
      "text/plain": [
       "0         mannen, morgen is de huisvergadering om 19\n",
       "1                      wat gaan we als huisfoto doen\n",
       "2            want die moeten we voor de 14e al maken\n",
       "3     ik ben voor een normale huisfoto voor het huis\n",
       "4              maar als iemand dikke ideeën heeft...\n",
       "Name: Message, dtype: object"
      ]
     },
     "execution_count": 34,
     "metadata": {},
     "output_type": "execute_result"
    }
   ],
   "source": [
    "#Lower Casing. Convert the text into the lower casing so that ‘apple’, ‘Apple’ and ‘APPLE’ are treated the same way.\n",
    "df['Message']  = df['Message'].str.lower()\n",
    "df['Message'].head()"
   ]
  },
  {
   "cell_type": "code",
   "execution_count": 35,
   "metadata": {},
   "outputs": [
    {
     "data": {
      "text/plain": [
       "0          mannen morgen is de huisvergadering om 19\n",
       "1                      wat gaan we als huisfoto doen\n",
       "2            want die moeten we voor de 14e al maken\n",
       "3     ik ben voor een normale huisfoto voor het huis\n",
       "4                 maar als iemand dikke ideeën heeft\n",
       "Name: Message, dtype: object"
      ]
     },
     "execution_count": 35,
     "metadata": {},
     "output_type": "execute_result"
    }
   ],
   "source": [
    "#Removing punctuation.\n",
    "df['Message'] = df['Message'].str.replace('[^\\w\\s]','')\n",
    "df['Message'].head()"
   ]
  },
  {
   "cell_type": "code",
   "execution_count": 36,
   "metadata": {},
   "outputs": [
    {
     "data": {
      "text/html": [
       "<div>\n",
       "<style scoped>\n",
       "    .dataframe tbody tr th:only-of-type {\n",
       "        vertical-align: middle;\n",
       "    }\n",
       "\n",
       "    .dataframe tbody tr th {\n",
       "        vertical-align: top;\n",
       "    }\n",
       "\n",
       "    .dataframe thead th {\n",
       "        text-align: right;\n",
       "    }\n",
       "</style>\n",
       "<table border=\"1\" class=\"dataframe\">\n",
       "  <thead>\n",
       "    <tr style=\"text-align: right;\">\n",
       "      <th></th>\n",
       "      <th>Date</th>\n",
       "      <th>Time</th>\n",
       "      <th>Group_Member</th>\n",
       "      <th>Message</th>\n",
       "    </tr>\n",
       "  </thead>\n",
       "  <tbody>\n",
       "    <tr>\n",
       "      <td>0</td>\n",
       "      <td>10/09/2018</td>\n",
       "      <td>10:04</td>\n",
       "      <td>Miguel Gonzalez</td>\n",
       "      <td>mannen morgen is de huisvergadering om 19</td>\n",
       "    </tr>\n",
       "    <tr>\n",
       "      <td>1</td>\n",
       "      <td>10/09/2018</td>\n",
       "      <td>11:50</td>\n",
       "      <td>Bart Stuyfzand</td>\n",
       "      <td>wat gaan we als huisfoto doen</td>\n",
       "    </tr>\n",
       "    <tr>\n",
       "      <td>2</td>\n",
       "      <td>10/09/2018</td>\n",
       "      <td>11:50</td>\n",
       "      <td>Bart Stuyfzand</td>\n",
       "      <td>want die moeten we voor de 14e al maken</td>\n",
       "    </tr>\n",
       "    <tr>\n",
       "      <td>3</td>\n",
       "      <td>10/09/2018</td>\n",
       "      <td>12:05</td>\n",
       "      <td>Miguel Gonzalez</td>\n",
       "      <td>ik ben voor een normale huisfoto voor het huis</td>\n",
       "    </tr>\n",
       "    <tr>\n",
       "      <td>4</td>\n",
       "      <td>10/09/2018</td>\n",
       "      <td>12:05</td>\n",
       "      <td>Miguel Gonzalez</td>\n",
       "      <td>maar als iemand dikke ideeën heeft</td>\n",
       "    </tr>\n",
       "    <tr>\n",
       "      <td>5</td>\n",
       "      <td>10/09/2018</td>\n",
       "      <td>12:06</td>\n",
       "      <td>Bart Stuyfzand</td>\n",
       "      <td>ik ben wel voor die foto met die tafel en dan...</td>\n",
       "    </tr>\n",
       "    <tr>\n",
       "      <td>6</td>\n",
       "      <td>10/09/2018</td>\n",
       "      <td>12:06</td>\n",
       "      <td>Timo Van De Wetering</td>\n",
       "      <td>ik echt niet</td>\n",
       "    </tr>\n",
       "    <tr>\n",
       "      <td>7</td>\n",
       "      <td>10/09/2018</td>\n",
       "      <td>12:06</td>\n",
       "      <td>Bart Stuyfzand</td>\n",
       "      <td>vgm was dat in het eerste jaar van pim en q</td>\n",
       "    </tr>\n",
       "    <tr>\n",
       "      <td>8</td>\n",
       "      <td>10/09/2018</td>\n",
       "      <td>12:06</td>\n",
       "      <td>Timo Van De Wetering</td>\n",
       "      <td>die is saai man</td>\n",
       "    </tr>\n",
       "    <tr>\n",
       "      <td>9</td>\n",
       "      <td>10/09/2018</td>\n",
       "      <td>12:23</td>\n",
       "      <td>Quinten Naaijen</td>\n",
       "      <td>ik normale huisfoto</td>\n",
       "    </tr>\n",
       "  </tbody>\n",
       "</table>\n",
       "</div>"
      ],
      "text/plain": [
       "         Date   Time          Group_Member  \\\n",
       "0  10/09/2018  10:04       Miguel Gonzalez   \n",
       "1  10/09/2018  11:50        Bart Stuyfzand   \n",
       "2  10/09/2018  11:50        Bart Stuyfzand   \n",
       "3  10/09/2018  12:05       Miguel Gonzalez   \n",
       "4  10/09/2018  12:05       Miguel Gonzalez   \n",
       "5  10/09/2018  12:06        Bart Stuyfzand   \n",
       "6  10/09/2018  12:06  Timo Van De Wetering   \n",
       "7  10/09/2018  12:06        Bart Stuyfzand   \n",
       "8  10/09/2018  12:06  Timo Van De Wetering   \n",
       "9  10/09/2018  12:23       Quinten Naaijen   \n",
       "\n",
       "                                             Message  \n",
       "0          mannen morgen is de huisvergadering om 19  \n",
       "1                      wat gaan we als huisfoto doen  \n",
       "2            want die moeten we voor de 14e al maken  \n",
       "3     ik ben voor een normale huisfoto voor het huis  \n",
       "4                 maar als iemand dikke ideeën heeft  \n",
       "5   ik ben wel voor die foto met die tafel en dan...  \n",
       "6                                       ik echt niet  \n",
       "7        vgm was dat in het eerste jaar van pim en q  \n",
       "8                                    die is saai man  \n",
       "9                                ik normale huisfoto  "
      ]
     },
     "execution_count": 36,
     "metadata": {},
     "output_type": "execute_result"
    }
   ],
   "source": [
    "#This is the code for deleting emoticons in the data set:\n",
    "def deEmojify(inputString):\n",
    "    return inputString.encode('ascii', 'ignore').decode('ascii')\n",
    "df.head(10)"
   ]
  },
  {
   "cell_type": "markdown",
   "metadata": {},
   "source": [
    "# 3: Data Analysis "
   ]
  },
  {
   "cell_type": "markdown",
   "metadata": {},
   "source": [
    "The table below shows how many times someone has sent a message in Group WhatsApp. Because I want to have insight into how often someone sent something."
   ]
  },
  {
   "cell_type": "code",
   "execution_count": 37,
   "metadata": {},
   "outputs": [
    {
     "data": {
      "text/html": [
       "<div>\n",
       "<style scoped>\n",
       "    .dataframe tbody tr th:only-of-type {\n",
       "        vertical-align: middle;\n",
       "    }\n",
       "\n",
       "    .dataframe tbody tr th {\n",
       "        vertical-align: top;\n",
       "    }\n",
       "\n",
       "    .dataframe thead th {\n",
       "        text-align: right;\n",
       "    }\n",
       "</style>\n",
       "<table border=\"1\" class=\"dataframe\">\n",
       "  <thead>\n",
       "    <tr style=\"text-align: right;\">\n",
       "      <th></th>\n",
       "      <th>Date</th>\n",
       "      <th>Time</th>\n",
       "      <th>Group_Member</th>\n",
       "      <th>Message</th>\n",
       "    </tr>\n",
       "  </thead>\n",
       "  <tbody>\n",
       "    <tr>\n",
       "      <td>0</td>\n",
       "      <td>10/09/2018</td>\n",
       "      <td>10:04</td>\n",
       "      <td>Miguel Gonzalez</td>\n",
       "      <td>mannen morgen is de huisvergadering om 19</td>\n",
       "    </tr>\n",
       "    <tr>\n",
       "      <td>1</td>\n",
       "      <td>10/09/2018</td>\n",
       "      <td>11:50</td>\n",
       "      <td>Bart Stuyfzand</td>\n",
       "      <td>wat gaan we als huisfoto doen</td>\n",
       "    </tr>\n",
       "    <tr>\n",
       "      <td>2</td>\n",
       "      <td>10/09/2018</td>\n",
       "      <td>11:50</td>\n",
       "      <td>Bart Stuyfzand</td>\n",
       "      <td>want die moeten we voor de 14e al maken</td>\n",
       "    </tr>\n",
       "    <tr>\n",
       "      <td>3</td>\n",
       "      <td>10/09/2018</td>\n",
       "      <td>12:05</td>\n",
       "      <td>Miguel Gonzalez</td>\n",
       "      <td>ik ben voor een normale huisfoto voor het huis</td>\n",
       "    </tr>\n",
       "    <tr>\n",
       "      <td>4</td>\n",
       "      <td>10/09/2018</td>\n",
       "      <td>12:05</td>\n",
       "      <td>Miguel Gonzalez</td>\n",
       "      <td>maar als iemand dikke ideeën heeft</td>\n",
       "    </tr>\n",
       "    <tr>\n",
       "      <td>5</td>\n",
       "      <td>10/09/2018</td>\n",
       "      <td>12:06</td>\n",
       "      <td>Bart Stuyfzand</td>\n",
       "      <td>ik ben wel voor die foto met die tafel en dan...</td>\n",
       "    </tr>\n",
       "    <tr>\n",
       "      <td>6</td>\n",
       "      <td>10/09/2018</td>\n",
       "      <td>12:06</td>\n",
       "      <td>Timo Van De Wetering</td>\n",
       "      <td>ik echt niet</td>\n",
       "    </tr>\n",
       "    <tr>\n",
       "      <td>7</td>\n",
       "      <td>10/09/2018</td>\n",
       "      <td>12:06</td>\n",
       "      <td>Bart Stuyfzand</td>\n",
       "      <td>vgm was dat in het eerste jaar van pim en q</td>\n",
       "    </tr>\n",
       "    <tr>\n",
       "      <td>8</td>\n",
       "      <td>10/09/2018</td>\n",
       "      <td>12:06</td>\n",
       "      <td>Timo Van De Wetering</td>\n",
       "      <td>die is saai man</td>\n",
       "    </tr>\n",
       "    <tr>\n",
       "      <td>9</td>\n",
       "      <td>10/09/2018</td>\n",
       "      <td>12:23</td>\n",
       "      <td>Quinten Naaijen</td>\n",
       "      <td>ik normale huisfoto</td>\n",
       "    </tr>\n",
       "  </tbody>\n",
       "</table>\n",
       "</div>"
      ],
      "text/plain": [
       "         Date   Time          Group_Member  \\\n",
       "0  10/09/2018  10:04       Miguel Gonzalez   \n",
       "1  10/09/2018  11:50        Bart Stuyfzand   \n",
       "2  10/09/2018  11:50        Bart Stuyfzand   \n",
       "3  10/09/2018  12:05       Miguel Gonzalez   \n",
       "4  10/09/2018  12:05       Miguel Gonzalez   \n",
       "5  10/09/2018  12:06        Bart Stuyfzand   \n",
       "6  10/09/2018  12:06  Timo Van De Wetering   \n",
       "7  10/09/2018  12:06        Bart Stuyfzand   \n",
       "8  10/09/2018  12:06  Timo Van De Wetering   \n",
       "9  10/09/2018  12:23       Quinten Naaijen   \n",
       "\n",
       "                                             Message  \n",
       "0          mannen morgen is de huisvergadering om 19  \n",
       "1                      wat gaan we als huisfoto doen  \n",
       "2            want die moeten we voor de 14e al maken  \n",
       "3     ik ben voor een normale huisfoto voor het huis  \n",
       "4                 maar als iemand dikke ideeën heeft  \n",
       "5   ik ben wel voor die foto met die tafel en dan...  \n",
       "6                                       ik echt niet  \n",
       "7        vgm was dat in het eerste jaar van pim en q  \n",
       "8                                    die is saai man  \n",
       "9                                ik normale huisfoto  "
      ]
     },
     "execution_count": 37,
     "metadata": {},
     "output_type": "execute_result"
    }
   ],
   "source": [
    "df.style.set_properties(**{'text-align': 'right'}).set_table_styles([ dict(selector='th', props=[('text-align', 'right')] ) ])\n",
    "df.head(10)"
   ]
  },
  {
   "cell_type": "code",
   "execution_count": 38,
   "metadata": {},
   "outputs": [
    {
     "data": {
      "text/plain": [
       "Pim Wevers                  2658\n",
       "Bart Stuyfzand              2003\n",
       "Quinten Naaijen             1711\n",
       "Miguel Gonzalez             1354\n",
       "Beerend Salamons            1084\n",
       "Timo Van De Wetering        1076\n",
       "Bob Dijkmans                1031\n",
       "Sjoerd Kruik                 808\n",
       "Thijmen Onderstal            739\n",
       "Floris Haasnoot              587\n",
       "Joep Linders                 547\n",
       "Guus Beins                   389\n",
       "Friso Rietra                 150\n",
       "Christiaan Van Grafhorst      54\n",
       "Name: Group_Member, dtype: int64"
      ]
     },
     "execution_count": 38,
     "metadata": {},
     "output_type": "execute_result"
    }
   ],
   "source": [
    "df['Group_Member'].value_counts() #Select a column and with value_counts it calculates how often a group member occurs."
   ]
  },
  {
   "cell_type": "markdown",
   "metadata": {},
   "source": [
    "To get a better visualisation, the data will be plotted in a bar chart."
   ]
  },
  {
   "cell_type": "code",
   "execution_count": 39,
   "metadata": {},
   "outputs": [
    {
     "data": {
      "text/plain": [
       "(array([ 0,  1,  2,  3,  4,  5,  6,  7,  8,  9, 10, 11, 12, 13]),\n",
       " <a list of 14 Text xticklabel objects>)"
      ]
     },
     "execution_count": 39,
     "metadata": {},
     "output_type": "execute_result"
    },
    {
     "data": {
      "image/png": "[encoded data removed]",
      "text/plain": [
       "<Figure size 432x288 with 1 Axes>"
      ]
     },
     "metadata": {},
     "output_type": "display_data"
    }
   ],
   "source": [
    "sns.set(style=\"darkgrid\")#It is a style, can be different, depends what you like.\n",
    "Chart1 = sns.countplot(x=\"Group_Member\", data=df)#The seaborn countplot is for showing value counts for a single categorical variable.\n",
    "plt.title('Whatsapp Group Members and Message Quantity')#Chart Title.\n",
    "plt.xlabel('Group Members') #Name of the X axis.\n",
    "plt.ylabel('Message Quantity') #Name of the Y axis.\n",
    "plt.xticks(rotation=90)#Rotate the x axis with 90 degrees so it's fits.  "
   ]
  },
  {
   "cell_type": "markdown",
   "metadata": {},
   "source": [
    "Pim Wevers has sent the most messages. This outcome is logic because of the years Pim lives in the house. Christiaan lives only four months in the house. Now I want to add a column which says how many years a person lives in the house to clarify more. "
   ]
  },
  {
   "cell_type": "code",
   "execution_count": 40,
   "metadata": {},
   "outputs": [],
   "source": [
    "df_years = pd.read_csv('Years.csv', delimiter = ';')#Another csv file with information about how many years a groupmember is live the stundent house."
   ]
  },
  {
   "cell_type": "code",
   "execution_count": 41,
   "metadata": {},
   "outputs": [],
   "source": [
    "df = df.merge(df_years)#Merge two csv files."
   ]
  },
  {
   "cell_type": "code",
   "execution_count": 42,
   "metadata": {},
   "outputs": [
    {
     "data": {
      "text/html": [
       "<div>\n",
       "<style scoped>\n",
       "    .dataframe tbody tr th:only-of-type {\n",
       "        vertical-align: middle;\n",
       "    }\n",
       "\n",
       "    .dataframe tbody tr th {\n",
       "        vertical-align: top;\n",
       "    }\n",
       "\n",
       "    .dataframe thead th {\n",
       "        text-align: right;\n",
       "    }\n",
       "</style>\n",
       "<table border=\"1\" class=\"dataframe\">\n",
       "  <thead>\n",
       "    <tr style=\"text-align: right;\">\n",
       "      <th></th>\n",
       "      <th>Date</th>\n",
       "      <th>Time</th>\n",
       "      <th>Group_Member</th>\n",
       "      <th>Message</th>\n",
       "      <th>Years</th>\n",
       "    </tr>\n",
       "  </thead>\n",
       "  <tbody>\n",
       "    <tr>\n",
       "      <td>0</td>\n",
       "      <td>10/09/2018</td>\n",
       "      <td>10:04</td>\n",
       "      <td>Miguel Gonzalez</td>\n",
       "      <td>mannen morgen is de huisvergadering om 19</td>\n",
       "      <td>6</td>\n",
       "    </tr>\n",
       "    <tr>\n",
       "      <td>1</td>\n",
       "      <td>10/09/2018</td>\n",
       "      <td>12:05</td>\n",
       "      <td>Miguel Gonzalez</td>\n",
       "      <td>ik ben voor een normale huisfoto voor het huis</td>\n",
       "      <td>6</td>\n",
       "    </tr>\n",
       "    <tr>\n",
       "      <td>2</td>\n",
       "      <td>10/09/2018</td>\n",
       "      <td>12:05</td>\n",
       "      <td>Miguel Gonzalez</td>\n",
       "      <td>maar als iemand dikke ideeën heeft</td>\n",
       "      <td>6</td>\n",
       "    </tr>\n",
       "    <tr>\n",
       "      <td>3</td>\n",
       "      <td>10/09/2018</td>\n",
       "      <td>12:51</td>\n",
       "      <td>Miguel Gonzalez</td>\n",
       "      <td>lotte van den brink vraagt of wij toevallig e...</td>\n",
       "      <td>6</td>\n",
       "    </tr>\n",
       "    <tr>\n",
       "      <td>4</td>\n",
       "      <td>10/09/2018</td>\n",
       "      <td>12:51</td>\n",
       "      <td>Miguel Gonzalez</td>\n",
       "      <td>ze is die kwijt</td>\n",
       "      <td>6</td>\n",
       "    </tr>\n",
       "    <tr>\n",
       "      <td>5</td>\n",
       "      <td>10/09/2018</td>\n",
       "      <td>12:52</td>\n",
       "      <td>Miguel Gonzalez</td>\n",
       "      <td>dan krijgen we wel echt een tebo foto</td>\n",
       "      <td>6</td>\n",
       "    </tr>\n",
       "    <tr>\n",
       "      <td>6</td>\n",
       "      <td>10/09/2018</td>\n",
       "      <td>12:52</td>\n",
       "      <td>Miguel Gonzalez</td>\n",
       "      <td>dat kiekje is top toch</td>\n",
       "      <td>6</td>\n",
       "    </tr>\n",
       "    <tr>\n",
       "      <td>7</td>\n",
       "      <td>10/09/2018</td>\n",
       "      <td>12:53</td>\n",
       "      <td>Miguel Gonzalez</td>\n",
       "      <td>ook prima</td>\n",
       "      <td>6</td>\n",
       "    </tr>\n",
       "    <tr>\n",
       "      <td>8</td>\n",
       "      <td>10/09/2018</td>\n",
       "      <td>12:57</td>\n",
       "      <td>Miguel Gonzalez</td>\n",
       "      <td>kan iemand daar even naar kijken die thuis is</td>\n",
       "      <td>6</td>\n",
       "    </tr>\n",
       "    <tr>\n",
       "      <td>9</td>\n",
       "      <td>10/09/2018</td>\n",
       "      <td>13:06</td>\n",
       "      <td>Miguel Gonzalez</td>\n",
       "      <td>top</td>\n",
       "      <td>6</td>\n",
       "    </tr>\n",
       "  </tbody>\n",
       "</table>\n",
       "</div>"
      ],
      "text/plain": [
       "         Date   Time     Group_Member  \\\n",
       "0  10/09/2018  10:04  Miguel Gonzalez   \n",
       "1  10/09/2018  12:05  Miguel Gonzalez   \n",
       "2  10/09/2018  12:05  Miguel Gonzalez   \n",
       "3  10/09/2018  12:51  Miguel Gonzalez   \n",
       "4  10/09/2018  12:51  Miguel Gonzalez   \n",
       "5  10/09/2018  12:52  Miguel Gonzalez   \n",
       "6  10/09/2018  12:52  Miguel Gonzalez   \n",
       "7  10/09/2018  12:53  Miguel Gonzalez   \n",
       "8  10/09/2018  12:57  Miguel Gonzalez   \n",
       "9  10/09/2018  13:06  Miguel Gonzalez   \n",
       "\n",
       "                                             Message  Years  \n",
       "0          mannen morgen is de huisvergadering om 19      6  \n",
       "1     ik ben voor een normale huisfoto voor het huis      6  \n",
       "2                 maar als iemand dikke ideeën heeft      6  \n",
       "3   lotte van den brink vraagt of wij toevallig e...      6  \n",
       "4                                    ze is die kwijt      6  \n",
       "5              dan krijgen we wel echt een tebo foto      6  \n",
       "6                             dat kiekje is top toch      6  \n",
       "7                                          ook prima      6  \n",
       "8      kan iemand daar even naar kijken die thuis is      6  \n",
       "9                                                top      6  "
      ]
     },
     "execution_count": 42,
     "metadata": {},
     "output_type": "execute_result"
    }
   ],
   "source": [
    "df.head(10)#Checking how the df is looking."
   ]
  },
  {
   "cell_type": "code",
   "execution_count": 43,
   "metadata": {},
   "outputs": [
    {
     "data": {
      "text/plain": [
       "5    4369\n",
       "4    3079\n",
       "6    2438\n",
       "2    2165\n",
       "3    1547\n",
       "1     593\n",
       "Name: Years, dtype: int64"
      ]
     },
     "execution_count": 43,
     "metadata": {},
     "output_type": "execute_result"
    }
   ],
   "source": [
    "df['Years'].value_counts() #Select a column and with value_counts it calculates wich year is most active."
   ]
  },
  {
   "cell_type": "code",
   "execution_count": 44,
   "metadata": {},
   "outputs": [
    {
     "data": {
      "text/plain": [
       "Text(0, 0.5, 'Message Quantity')"
      ]
     },
     "execution_count": 44,
     "metadata": {},
     "output_type": "execute_result"
    },
    {
     "data": {
      "image/png": "[encoded data removed]",
      "text/plain": [
       "<Figure size 432x288 with 1 Axes>"
      ]
     },
     "metadata": {},
     "output_type": "display_data"
    }
   ],
   "source": [
    "sns.set(style=\"darkgrid\") #It is a style, can be different, depends what you like.\n",
    "Chart2 = sns.countplot(x=\"Years\", data=df)#The seaborn countplot is for showing value counts for a single categorical variable.\n",
    "plt.title('Years and Message Quantity')#Chart Title.\n",
    "plt.xlabel('Resident Years')#Name of the X axis.\n",
    "plt.ylabel('Message Quantity')#Name of the Y axis."
   ]
  },
  {
   "cell_type": "markdown",
   "metadata": {},
   "source": [
    "The chart above shows that residents who have been residents for five years and are still in the Group WhatsApp are the most active in the group WhatsApp. As opposed to the first years who only lived in the house for four months. "
   ]
  },
  {
   "cell_type": "markdown",
   "metadata": {},
   "source": [
    "Next step is at when the group WhatsApp is most active looking at a 24-hour scale."
   ]
  },
  {
   "cell_type": "code",
   "execution_count": 45,
   "metadata": {},
   "outputs": [
    {
     "data": {
      "text/plain": [
       "18:11    51\n",
       "14:16    51\n",
       "12:00    50\n",
       "12:53    50\n",
       "12:33    45\n",
       "         ..\n",
       "07:54     1\n",
       "06:22     1\n",
       "08:03     1\n",
       "06:39     1\n",
       "08:08     1\n",
       "Name: Time, Length: 1137, dtype: int64"
      ]
     },
     "execution_count": 45,
     "metadata": {},
     "output_type": "execute_result"
    }
   ],
   "source": [
    "df['Time'].value_counts()#Select a column and with value_counts it calculates wich year is most active."
   ]
  },
  {
   "cell_type": "code",
   "execution_count": 46,
   "metadata": {},
   "outputs": [
    {
     "data": {
      "text/plain": [
       "Text(0, 0.5, 'Message Quantity')"
      ]
     },
     "execution_count": 46,
     "metadata": {},
     "output_type": "execute_result"
    },
    {
     "data": {
      "image/png": "[encoded data removed]",
      "text/plain": [
       "<Figure size 432x288 with 1 Axes>"
      ]
     },
     "metadata": {},
     "output_type": "display_data"
    }
   ],
   "source": [
    "df['Hour'] = df['Time'].str.split(':').str[0]#Create a new column called Hour. Only interested in the first two digits, split them on ':' and pick the first part with [0].\n",
    "Chart3 = sns.countplot(x=\"Hour\", data=df)#The seaborn countplot is for showing value counts for a single categorical variable.\n",
    "sns.set(style=\"darkgrid\") #It is a style, can be different, depends what you like.\n",
    "plt.title('Whatsapp Group Activity per Hour')#Chart Title.\n",
    "plt.xlabel('Hours')#Name of the X axis.\n",
    "plt.ylabel('Message Quantity')#Name of the Y axis.\n"
   ]
  },
  {
   "cell_type": "markdown",
   "metadata": {},
   "source": [
    "The Group App is most used from 12:00 to 12:59. An outlier is from 19:00 to 19:59. This is around dinnertime, and you should not sit on the phone while eating. So that makes sense."
   ]
  },
  {
   "cell_type": "code",
   "execution_count": 47,
   "metadata": {},
   "outputs": [
    {
     "data": {
      "text/html": [
       "<div>\n",
       "<style scoped>\n",
       "    .dataframe tbody tr th:only-of-type {\n",
       "        vertical-align: middle;\n",
       "    }\n",
       "\n",
       "    .dataframe tbody tr th {\n",
       "        vertical-align: top;\n",
       "    }\n",
       "\n",
       "    .dataframe thead th {\n",
       "        text-align: right;\n",
       "    }\n",
       "</style>\n",
       "<table border=\"1\" class=\"dataframe\">\n",
       "  <thead>\n",
       "    <tr style=\"text-align: right;\">\n",
       "      <th></th>\n",
       "      <th>Date</th>\n",
       "      <th>Time</th>\n",
       "      <th>Group_Member</th>\n",
       "      <th>Message</th>\n",
       "      <th>Years</th>\n",
       "      <th>Hour</th>\n",
       "    </tr>\n",
       "  </thead>\n",
       "  <tbody>\n",
       "    <tr>\n",
       "      <td>0</td>\n",
       "      <td>10/09/2018</td>\n",
       "      <td>10:04</td>\n",
       "      <td>Miguel Gonzalez</td>\n",
       "      <td>mannen morgen is de huisvergadering om 19</td>\n",
       "      <td>6</td>\n",
       "      <td>10</td>\n",
       "    </tr>\n",
       "    <tr>\n",
       "      <td>1</td>\n",
       "      <td>10/09/2018</td>\n",
       "      <td>12:05</td>\n",
       "      <td>Miguel Gonzalez</td>\n",
       "      <td>ik ben voor een normale huisfoto voor het huis</td>\n",
       "      <td>6</td>\n",
       "      <td>12</td>\n",
       "    </tr>\n",
       "    <tr>\n",
       "      <td>2</td>\n",
       "      <td>10/09/2018</td>\n",
       "      <td>12:05</td>\n",
       "      <td>Miguel Gonzalez</td>\n",
       "      <td>maar als iemand dikke ideeën heeft</td>\n",
       "      <td>6</td>\n",
       "      <td>12</td>\n",
       "    </tr>\n",
       "    <tr>\n",
       "      <td>3</td>\n",
       "      <td>10/09/2018</td>\n",
       "      <td>12:51</td>\n",
       "      <td>Miguel Gonzalez</td>\n",
       "      <td>lotte van den brink vraagt of wij toevallig e...</td>\n",
       "      <td>6</td>\n",
       "      <td>12</td>\n",
       "    </tr>\n",
       "    <tr>\n",
       "      <td>4</td>\n",
       "      <td>10/09/2018</td>\n",
       "      <td>12:51</td>\n",
       "      <td>Miguel Gonzalez</td>\n",
       "      <td>ze is die kwijt</td>\n",
       "      <td>6</td>\n",
       "      <td>12</td>\n",
       "    </tr>\n",
       "  </tbody>\n",
       "</table>\n",
       "</div>"
      ],
      "text/plain": [
       "         Date   Time     Group_Member  \\\n",
       "0  10/09/2018  10:04  Miguel Gonzalez   \n",
       "1  10/09/2018  12:05  Miguel Gonzalez   \n",
       "2  10/09/2018  12:05  Miguel Gonzalez   \n",
       "3  10/09/2018  12:51  Miguel Gonzalez   \n",
       "4  10/09/2018  12:51  Miguel Gonzalez   \n",
       "\n",
       "                                             Message  Years Hour  \n",
       "0          mannen morgen is de huisvergadering om 19      6   10  \n",
       "1     ik ben voor een normale huisfoto voor het huis      6   12  \n",
       "2                 maar als iemand dikke ideeën heeft      6   12  \n",
       "3   lotte van den brink vraagt of wij toevallig e...      6   12  \n",
       "4                                    ze is die kwijt      6   12  "
      ]
     },
     "execution_count": 47,
     "metadata": {},
     "output_type": "execute_result"
    }
   ],
   "source": [
    "df.head()#Dataframe with the new variables."
   ]
  },
  {
   "cell_type": "markdown",
   "metadata": {},
   "source": [
    "# 4: Naïve bayes model"
   ]
  },
  {
   "cell_type": "markdown",
   "metadata": {},
   "source": [
    "This part is about text mining. Using the Naive Bayes technique, predicting which message is sent by which Group Member.\n",
    "\n",
    "Naive Bayes Classification is a kind of algorithm that applies Bayes' Law. The Bayes Law indicates the probability of an event. When you use the Naive Bayes Classification, you use the Bayes Law to judge whether something is probable and you come to an assumption that is the most obvious."
   ]
  },
  {
   "cell_type": "markdown",
   "metadata": {},
   "source": [
    "Insight in the vocabulary of the WhatsApp Group:"
   ]
  },
  {
   "cell_type": "code",
   "execution_count": 48,
   "metadata": {},
   "outputs": [],
   "source": [
    "text = df['Message'].values.astype('U') #Taking the text from the messages to convert it to Unicode.\n",
    "vect = CountVectorizer()#Create the count vectorizer object object.\n",
    "vect = vect.fit(text)#Fit the model with the words from the review text.\n",
    "docu_feat = vect.transform(text)#Get the words from the vocabulary.\n"
   ]
  },
  {
   "cell_type": "code",
   "execution_count": 49,
   "metadata": {},
   "outputs": [
    {
     "name": "stdout",
     "output_type": "stream",
     "text": [
      "There are 6379 words in the vocabulary. A selection: ['br', 'braakles', 'brace', 'brainstormen', 'brak', 'brakke', 'brakkk', 'bram', 'brand', 'brandalarm', 'brandblussers', 'brandenburg', 'brandmelder', 'brandoefening', 'brandtrap', 'brandweer', 'brazzers', 'breda', 'breed', 'breedstraat', 'breek', 'breekt', 'breken', 'breng', 'brengen', 'brengt', 'bretels', 'breukelen', 'brief', 'briefje', 'briefjeappje', 'briefjes', 'briene', 'brieven', 'brievenbus', 'bril', 'brink', 'brinkman', 'bro', 'broeder', 'broek', 'broer', 'broers', 'broertje', 'brommers', 'bron', 'brood', 'broodje', 'broodjes', 'brrrrrrrrrrak', 'bruine', 'bruinefruit', 'brussel', 'brussels', 'brutels', 'bruur', 'btw', 'budget', 'bueno', 'buffer', 'buffet', 'buffetje', 'bui', 'buik', 'buis', 'buiten', 'buitenband', 'buitenbezem', 'buitenland', 'buizen', 'buj', 'bull', 'bullen', 'bultje', 'bunkerrr', 'bureau', 'bureaus', 'buren', 'burgers', 'burghard', 'buro', 'bus', 'bushalte', 'business', 'busje', 'busjes', 'busplek', 'bussen', 'but', 'buurt', 'buurtbewoners', 'buurtfeest', 'buurtgenoten', 'buurvrouw', 'bv', 'bvo', 'bvootjes', 'by', 'cadeau', 'cadeaus']\n"
     ]
    }
   ],
   "source": [
    "feature_names = vect.get_feature_names() #Get all separate words from the reviews.\n",
    "print(f\"There are {len(feature_names)} words in the vocabulary. A selection: {feature_names[1000:1100]}\") #Some words from word 1000 till word 1100."
   ]
  },
  {
   "cell_type": "markdown",
   "metadata": {},
   "source": [
    "The following code will predict the character of lines of dialogue from the oldest residents in the house. This is the code to generate a document-feature matrix."
   ]
  },
  {
   "cell_type": "code",
   "execution_count": 50,
   "metadata": {},
   "outputs": [
    {
     "data": {
      "text/html": [
       "<div>\n",
       "<style scoped>\n",
       "    .dataframe tbody tr th:only-of-type {\n",
       "        vertical-align: middle;\n",
       "    }\n",
       "\n",
       "    .dataframe tbody tr th {\n",
       "        vertical-align: top;\n",
       "    }\n",
       "\n",
       "    .dataframe thead th {\n",
       "        text-align: right;\n",
       "    }\n",
       "</style>\n",
       "<table border=\"1\" class=\"dataframe\">\n",
       "  <thead>\n",
       "    <tr style=\"text-align: right;\">\n",
       "      <th></th>\n",
       "      <th>Date</th>\n",
       "      <th>Time</th>\n",
       "      <th>Group_Member</th>\n",
       "      <th>Message</th>\n",
       "      <th>Years</th>\n",
       "      <th>Hour</th>\n",
       "    </tr>\n",
       "  </thead>\n",
       "  <tbody>\n",
       "    <tr>\n",
       "      <td>0</td>\n",
       "      <td>10/09/2018</td>\n",
       "      <td>10:04</td>\n",
       "      <td>Miguel Gonzalez</td>\n",
       "      <td>mannen morgen is de huisvergadering om 19</td>\n",
       "      <td>6</td>\n",
       "      <td>10</td>\n",
       "    </tr>\n",
       "    <tr>\n",
       "      <td>1</td>\n",
       "      <td>10/09/2018</td>\n",
       "      <td>12:05</td>\n",
       "      <td>Miguel Gonzalez</td>\n",
       "      <td>ik ben voor een normale huisfoto voor het huis</td>\n",
       "      <td>6</td>\n",
       "      <td>12</td>\n",
       "    </tr>\n",
       "    <tr>\n",
       "      <td>2</td>\n",
       "      <td>10/09/2018</td>\n",
       "      <td>12:05</td>\n",
       "      <td>Miguel Gonzalez</td>\n",
       "      <td>maar als iemand dikke ideeën heeft</td>\n",
       "      <td>6</td>\n",
       "      <td>12</td>\n",
       "    </tr>\n",
       "    <tr>\n",
       "      <td>3</td>\n",
       "      <td>10/09/2018</td>\n",
       "      <td>12:51</td>\n",
       "      <td>Miguel Gonzalez</td>\n",
       "      <td>lotte van den brink vraagt of wij toevallig e...</td>\n",
       "      <td>6</td>\n",
       "      <td>12</td>\n",
       "    </tr>\n",
       "    <tr>\n",
       "      <td>4</td>\n",
       "      <td>10/09/2018</td>\n",
       "      <td>12:51</td>\n",
       "      <td>Miguel Gonzalez</td>\n",
       "      <td>ze is die kwijt</td>\n",
       "      <td>6</td>\n",
       "      <td>12</td>\n",
       "    </tr>\n",
       "  </tbody>\n",
       "</table>\n",
       "</div>"
      ],
      "text/plain": [
       "         Date   Time     Group_Member  \\\n",
       "0  10/09/2018  10:04  Miguel Gonzalez   \n",
       "1  10/09/2018  12:05  Miguel Gonzalez   \n",
       "2  10/09/2018  12:05  Miguel Gonzalez   \n",
       "3  10/09/2018  12:51  Miguel Gonzalez   \n",
       "4  10/09/2018  12:51  Miguel Gonzalez   \n",
       "\n",
       "                                             Message  Years Hour  \n",
       "0          mannen morgen is de huisvergadering om 19      6   10  \n",
       "1     ik ben voor een normale huisfoto voor het huis      6   12  \n",
       "2                 maar als iemand dikke ideeën heeft      6   12  \n",
       "3   lotte van den brink vraagt of wij toevallig e...      6   12  \n",
       "4                                    ze is die kwijt      6   12  "
      ]
     },
     "execution_count": 50,
     "metadata": {},
     "output_type": "execute_result"
    }
   ],
   "source": [
    "df = df.loc[(df['Group_Member'] == 'Miguel Gonzalez') | (df['Group_Member'] == 'Beerend Salamons') | (df['Group_Member'] == 'Pim Wevers') | (df['Group_Member'] == 'Quinten Naaijen') | (df['Group_Member'] == 'Timo van de Wetering') | (df['Group_Member'] == 'Bart Stuyfzand') | (df['Group_Member'] == 'Sjoerd Kruik') | (df['Group_Member'] == 'Thijmen Onderstal') | (df['Group_Member'] == 'Bob Dijkmans') | (df['Group_Member'] == 'Floris Haasnoot') | (df['Group_Member'] == 'Joep Linders') | (df['Group_Member'] == 'Friso Rietra') | (df['Group_Member'] == 'Christiaan van Grafhorst') | (df['Group_Member'] == 'Guus Beins')]#Select two names in the column Group_Member.\n",
    "text = df['Message'].values.astype('U') #Taking the text from the data frame. We need to convert it to Unicode.\n",
    "vect = CountVectorizer() #Create the count vectorizer object object.\n",
    "vect = vect.fit(text) #We fit the model with the words from the review text.\n",
    "docu_feat = vect.transform(text) #Make a matrix.\n",
    "df.head()"
   ]
  },
  {
   "cell_type": "markdown",
   "metadata": {},
   "source": [
    " The model will use the Naïve Bayes classifier from sklearn."
   ]
  },
  {
   "cell_type": "code",
   "execution_count": 51,
   "metadata": {},
   "outputs": [],
   "source": [
    "nb = MultinomialNB() #Create the model based on the Naive Bayes technique. \n",
    "X = docu_feat #The document-feature matrix is the X matrix.\n",
    "y = df['Group_Member'] #Creating the y vector.\n",
    "\n",
    "X_train, X_test, y_train, y_test = train_test_split(X, y, test_size=0.3) #Split the data into training set and test set (30%) and store it.\n",
    "\n",
    "nb = nb.fit(X_train, y_train) #Fit the model X=features, y=character."
   ]
  },
  {
   "cell_type": "markdown",
   "metadata": {},
   "source": [
    "In machine learning it is usual to split the data into two subsets: training data and testing data. There are two risks, the model is overfitting or the model is underfitting. Overfitting means that the model has trained “too well” and is now fit too tightly to the training dataset. This usually happens when the model is too complicated. In contrast to overfitting, when a model is under fitted, it means that the model does not fit the training data and therefore misses the trends in the data."
   ]
  },
  {
   "cell_type": "markdown",
   "metadata": {},
   "source": [
    "# 5: Evaluation "
   ]
  },
  {
   "cell_type": "markdown",
   "metadata": {},
   "source": [
    "Evaluation of the model will be done with calculating the confusion matrix, accuracy, precision and recall."
   ]
  },
  {
   "cell_type": "code",
   "execution_count": 52,
   "metadata": {},
   "outputs": [
    {
     "data": {
      "text/plain": [
       "0.2750701709619801"
      ]
     },
     "execution_count": 52,
     "metadata": {},
     "output_type": "execute_result"
    }
   ],
   "source": [
    "#Evaluate the model with the Accuracy:\n",
    "y_test_p = nb.predict(X_test)\n",
    "nb.score(X_test, y_test)"
   ]
  },
  {
   "cell_type": "markdown",
   "metadata": {},
   "source": [
    "$Accuracy = \\frac{Correct}{Total} * 100 $"
   ]
  },
  {
   "cell_type": "markdown",
   "metadata": {},
   "source": [
    "The accuracy is 27.6%, which is not great. Now check the same category all the time."
   ]
  },
  {
   "cell_type": "code",
   "execution_count": 53,
   "metadata": {},
   "outputs": [
    {
     "data": {
      "text/plain": [
       "Pim Wevers           0.203507\n",
       "Bart Stuyfzand       0.153357\n",
       "Quinten Naaijen      0.131001\n",
       "Miguel Gonzalez      0.103667\n",
       "Beerend Salamons     0.082995\n",
       "Bob Dijkmans         0.078937\n",
       "Sjoerd Kruik         0.061864\n",
       "Thijmen Onderstal    0.056581\n",
       "Floris Haasnoot      0.044943\n",
       "Joep Linders         0.041880\n",
       "Guus Beins           0.029783\n",
       "Friso Rietra         0.011485\n",
       "Name: Group_Member, dtype: float64"
      ]
     },
     "execution_count": 53,
     "metadata": {},
     "output_type": "execute_result"
    }
   ],
   "source": [
    "df['Group_Member'].value_counts(normalize=True)#It selects now only Pim and Quinten in the column Gourp_Member. "
   ]
  },
  {
   "cell_type": "markdown",
   "metadata": {},
   "source": [
    "The model is making 7.3 percentage points better than when Pim is guessed all the time. This is not great but logic with such short lines of dialogue."
   ]
  },
  {
   "cell_type": "markdown",
   "metadata": {},
   "source": [
    "Evalute the model with a confusion matrix"
   ]
  },
  {
   "cell_type": "code",
   "execution_count": 54,
   "metadata": {},
   "outputs": [
    {
     "data": {
      "text/plain": [
       "array(['Bart Stuyfzand', 'Beerend Salamons', 'Bob Dijkmans',\n",
       "       'Floris Haasnoot', 'Friso Rietra', 'Guus Beins', 'Joep Linders',\n",
       "       'Miguel Gonzalez', 'Pim Wevers', 'Quinten Naaijen', 'Sjoerd Kruik',\n",
       "       'Thijmen Onderstal'], dtype='<U17')"
      ]
     },
     "execution_count": 54,
     "metadata": {},
     "output_type": "execute_result"
    }
   ],
   "source": [
    "nb.classes_ #With nb_classes figureing out the ordering of the labels."
   ]
  },
  {
   "cell_type": "code",
   "execution_count": 55,
   "metadata": {},
   "outputs": [
    {
     "data": {
      "text/html": [
       "<div>\n",
       "<style scoped>\n",
       "    .dataframe tbody tr th:only-of-type {\n",
       "        vertical-align: middle;\n",
       "    }\n",
       "\n",
       "    .dataframe tbody tr th {\n",
       "        vertical-align: top;\n",
       "    }\n",
       "\n",
       "    .dataframe thead th {\n",
       "        text-align: right;\n",
       "    }\n",
       "</style>\n",
       "<table border=\"1\" class=\"dataframe\">\n",
       "  <thead>\n",
       "    <tr style=\"text-align: right;\">\n",
       "      <th></th>\n",
       "      <th>Bart_predict</th>\n",
       "      <th>Beerend_predict</th>\n",
       "      <th>Bob_predict</th>\n",
       "      <th>Floris_predict</th>\n",
       "      <th>Friso_predict</th>\n",
       "      <th>Guus_predict</th>\n",
       "      <th>Joep_predict</th>\n",
       "      <th>Miguel_predict</th>\n",
       "      <th>Pim_predict</th>\n",
       "      <th>Quinten_predict</th>\n",
       "      <th>Sjoerd_predict</th>\n",
       "      <th>Thijmen_predict</th>\n",
       "    </tr>\n",
       "  </thead>\n",
       "  <tbody>\n",
       "    <tr>\n",
       "      <td>Bart_real</td>\n",
       "      <td>231</td>\n",
       "      <td>31</td>\n",
       "      <td>7</td>\n",
       "      <td>1</td>\n",
       "      <td>0</td>\n",
       "      <td>0</td>\n",
       "      <td>1</td>\n",
       "      <td>32</td>\n",
       "      <td>258</td>\n",
       "      <td>60</td>\n",
       "      <td>5</td>\n",
       "      <td>1</td>\n",
       "    </tr>\n",
       "    <tr>\n",
       "      <td>Beerend_real</td>\n",
       "      <td>60</td>\n",
       "      <td>60</td>\n",
       "      <td>5</td>\n",
       "      <td>0</td>\n",
       "      <td>0</td>\n",
       "      <td>0</td>\n",
       "      <td>0</td>\n",
       "      <td>28</td>\n",
       "      <td>132</td>\n",
       "      <td>34</td>\n",
       "      <td>2</td>\n",
       "      <td>1</td>\n",
       "    </tr>\n",
       "    <tr>\n",
       "      <td>Bob_real</td>\n",
       "      <td>72</td>\n",
       "      <td>28</td>\n",
       "      <td>35</td>\n",
       "      <td>1</td>\n",
       "      <td>0</td>\n",
       "      <td>0</td>\n",
       "      <td>0</td>\n",
       "      <td>26</td>\n",
       "      <td>111</td>\n",
       "      <td>58</td>\n",
       "      <td>1</td>\n",
       "      <td>0</td>\n",
       "    </tr>\n",
       "    <tr>\n",
       "      <td>Floris_real</td>\n",
       "      <td>25</td>\n",
       "      <td>14</td>\n",
       "      <td>13</td>\n",
       "      <td>1</td>\n",
       "      <td>0</td>\n",
       "      <td>0</td>\n",
       "      <td>0</td>\n",
       "      <td>23</td>\n",
       "      <td>64</td>\n",
       "      <td>24</td>\n",
       "      <td>3</td>\n",
       "      <td>1</td>\n",
       "    </tr>\n",
       "    <tr>\n",
       "      <td>Friso_real</td>\n",
       "      <td>14</td>\n",
       "      <td>7</td>\n",
       "      <td>1</td>\n",
       "      <td>0</td>\n",
       "      <td>0</td>\n",
       "      <td>0</td>\n",
       "      <td>0</td>\n",
       "      <td>6</td>\n",
       "      <td>14</td>\n",
       "      <td>7</td>\n",
       "      <td>0</td>\n",
       "      <td>0</td>\n",
       "    </tr>\n",
       "    <tr>\n",
       "      <td>Guus_real</td>\n",
       "      <td>19</td>\n",
       "      <td>15</td>\n",
       "      <td>6</td>\n",
       "      <td>0</td>\n",
       "      <td>0</td>\n",
       "      <td>0</td>\n",
       "      <td>0</td>\n",
       "      <td>11</td>\n",
       "      <td>39</td>\n",
       "      <td>15</td>\n",
       "      <td>0</td>\n",
       "      <td>0</td>\n",
       "    </tr>\n",
       "    <tr>\n",
       "      <td>Joep_real</td>\n",
       "      <td>35</td>\n",
       "      <td>4</td>\n",
       "      <td>10</td>\n",
       "      <td>1</td>\n",
       "      <td>0</td>\n",
       "      <td>0</td>\n",
       "      <td>8</td>\n",
       "      <td>11</td>\n",
       "      <td>75</td>\n",
       "      <td>17</td>\n",
       "      <td>2</td>\n",
       "      <td>1</td>\n",
       "    </tr>\n",
       "    <tr>\n",
       "      <td>Miguel_real</td>\n",
       "      <td>59</td>\n",
       "      <td>29</td>\n",
       "      <td>7</td>\n",
       "      <td>0</td>\n",
       "      <td>0</td>\n",
       "      <td>0</td>\n",
       "      <td>0</td>\n",
       "      <td>87</td>\n",
       "      <td>151</td>\n",
       "      <td>47</td>\n",
       "      <td>3</td>\n",
       "      <td>1</td>\n",
       "    </tr>\n",
       "    <tr>\n",
       "      <td>Pim_real</td>\n",
       "      <td>112</td>\n",
       "      <td>34</td>\n",
       "      <td>8</td>\n",
       "      <td>0</td>\n",
       "      <td>0</td>\n",
       "      <td>0</td>\n",
       "      <td>2</td>\n",
       "      <td>59</td>\n",
       "      <td>508</td>\n",
       "      <td>87</td>\n",
       "      <td>5</td>\n",
       "      <td>1</td>\n",
       "    </tr>\n",
       "    <tr>\n",
       "      <td>Quinten_real</td>\n",
       "      <td>69</td>\n",
       "      <td>31</td>\n",
       "      <td>9</td>\n",
       "      <td>2</td>\n",
       "      <td>0</td>\n",
       "      <td>0</td>\n",
       "      <td>0</td>\n",
       "      <td>39</td>\n",
       "      <td>205</td>\n",
       "      <td>140</td>\n",
       "      <td>4</td>\n",
       "      <td>0</td>\n",
       "    </tr>\n",
       "    <tr>\n",
       "      <td>Sjoerd_real</td>\n",
       "      <td>44</td>\n",
       "      <td>14</td>\n",
       "      <td>13</td>\n",
       "      <td>0</td>\n",
       "      <td>0</td>\n",
       "      <td>0</td>\n",
       "      <td>0</td>\n",
       "      <td>26</td>\n",
       "      <td>96</td>\n",
       "      <td>30</td>\n",
       "      <td>5</td>\n",
       "      <td>0</td>\n",
       "    </tr>\n",
       "    <tr>\n",
       "      <td>Thijmen_real</td>\n",
       "      <td>39</td>\n",
       "      <td>30</td>\n",
       "      <td>8</td>\n",
       "      <td>0</td>\n",
       "      <td>0</td>\n",
       "      <td>0</td>\n",
       "      <td>0</td>\n",
       "      <td>17</td>\n",
       "      <td>89</td>\n",
       "      <td>37</td>\n",
       "      <td>2</td>\n",
       "      <td>3</td>\n",
       "    </tr>\n",
       "  </tbody>\n",
       "</table>\n",
       "</div>"
      ],
      "text/plain": [
       "              Bart_predict  Beerend_predict  Bob_predict  Floris_predict  \\\n",
       "Bart_real              231               31            7               1   \n",
       "Beerend_real            60               60            5               0   \n",
       "Bob_real                72               28           35               1   \n",
       "Floris_real             25               14           13               1   \n",
       "Friso_real              14                7            1               0   \n",
       "Guus_real               19               15            6               0   \n",
       "Joep_real               35                4           10               1   \n",
       "Miguel_real             59               29            7               0   \n",
       "Pim_real               112               34            8               0   \n",
       "Quinten_real            69               31            9               2   \n",
       "Sjoerd_real             44               14           13               0   \n",
       "Thijmen_real            39               30            8               0   \n",
       "\n",
       "              Friso_predict  Guus_predict  Joep_predict  Miguel_predict  \\\n",
       "Bart_real                 0             0             1              32   \n",
       "Beerend_real              0             0             0              28   \n",
       "Bob_real                  0             0             0              26   \n",
       "Floris_real               0             0             0              23   \n",
       "Friso_real                0             0             0               6   \n",
       "Guus_real                 0             0             0              11   \n",
       "Joep_real                 0             0             8              11   \n",
       "Miguel_real               0             0             0              87   \n",
       "Pim_real                  0             0             2              59   \n",
       "Quinten_real              0             0             0              39   \n",
       "Sjoerd_real               0             0             0              26   \n",
       "Thijmen_real              0             0             0              17   \n",
       "\n",
       "              Pim_predict  Quinten_predict  Sjoerd_predict  Thijmen_predict  \n",
       "Bart_real             258               60               5                1  \n",
       "Beerend_real          132               34               2                1  \n",
       "Bob_real              111               58               1                0  \n",
       "Floris_real            64               24               3                1  \n",
       "Friso_real             14                7               0                0  \n",
       "Guus_real              39               15               0                0  \n",
       "Joep_real              75               17               2                1  \n",
       "Miguel_real           151               47               3                1  \n",
       "Pim_real              508               87               5                1  \n",
       "Quinten_real          205              140               4                0  \n",
       "Sjoerd_real            96               30               5                0  \n",
       "Thijmen_real           89               37               2                3  "
      ]
     },
     "execution_count": 55,
     "metadata": {},
     "output_type": "execute_result"
    }
   ],
   "source": [
    "cm = confusion_matrix(y_test, y_test_p)#Make a confusion matrix. \n",
    "cm = pd.DataFrame(cm, index=['Bart_real', 'Beerend_real', 'Bob_real', 'Floris_real', 'Friso_real', 'Guus_real', 'Joep_real', 'Miguel_real', 'Pim_real', 'Quinten_real', 'Sjoerd_real', 'Thijmen_real'], columns=['Bart_predict', 'Beerend_predict', 'Bob_predict', 'Floris_predict', 'Friso_predict', 'Guus_predict', 'Joep_predict', 'Miguel_predict', 'Pim_predict', 'Quinten_predict', 'Sjoerd_predict', 'Thijmen_predict'])#Make column names for the confusion matrix. \n",
    "cm"
   ]
  },
  {
   "cell_type": "markdown",
   "metadata": {},
   "source": [
    "The confusion matrix  results in the following results: \n",
    "- 231 times it was well predicted that Bart sent a text message. \n",
    "- 396 times it was wrong.\n"
   ]
  },
  {
   "cell_type": "markdown",
   "metadata": {},
   "source": [
    "Precision and recall:\n",
    "\n",
    "- Precision is the proportion of the \"Bart\" predictions that is actually \"Bart\".\n",
    "- Recall is the proportion of real \"Bart\" that is predicted as \"Bart\""
   ]
  },
  {
   "cell_type": "markdown",
   "metadata": {},
   "source": [
    "Calculate the precision and recall:"
   ]
  },
  {
   "cell_type": "code",
   "execution_count": 27,
   "metadata": {},
   "outputs": [
    {
     "name": "stdout",
     "output_type": "stream",
     "text": [
      "                   precision    recall  f1-score   support\n",
      "\n",
      "   Bart Stuyfzand       0.30      0.33      0.32       631\n",
      " Beerend Salamons       0.17      0.18      0.18       319\n",
      "     Bob Dijkmans       0.22      0.13      0.16       288\n",
      "  Floris Haasnoot       0.25      0.01      0.01       190\n",
      "     Friso Rietra       0.00      0.00      0.00        39\n",
      "       Guus Beins       0.00      0.00      0.00       116\n",
      "     Joep Linders       0.56      0.06      0.11       153\n",
      "  Miguel Gonzalez       0.28      0.23      0.26       392\n",
      "       Pim Wevers       0.29      0.68      0.41       803\n",
      "  Quinten Naaijen       0.28      0.25      0.26       530\n",
      "     Sjoerd Kruik       0.31      0.02      0.03       236\n",
      "Thijmen Onderstal       0.25      0.01      0.02       222\n",
      "\n",
      "         accuracy                           0.28      3919\n",
      "        macro avg       0.24      0.16      0.15      3919\n",
      "     weighted avg       0.27      0.28      0.23      3919\n",
      "\n"
     ]
    },
    {
     "name": "stderr",
     "output_type": "stream",
     "text": [
      "/Users/quintennaayen/opt/anaconda3/lib/python3.7/site-packages/sklearn/metrics/classification.py:1437: UndefinedMetricWarning: Precision and F-score are ill-defined and being set to 0.0 in labels with no predicted samples.\n",
      "  'precision', 'predicted', average, warn_for)\n"
     ]
    }
   ],
   "source": [
    "from sklearn.metrics import classification_report #Import classification_report\n",
    "print(classification_report(y_test, y_test_p, nb.classes_)) #This function needs the class names, which are in nb.classes_."
   ]
  },
  {
   "cell_type": "code",
   "execution_count": 28,
   "metadata": {},
   "outputs": [
    {
     "name": "stdout",
     "output_type": "stream",
     "text": [
      " mannen morgen is de huisvergadering om 19\n",
      "[[1.72230845e-01 7.74632133e-04 1.72895667e-02 1.28108644e-03\n",
      "  1.15178971e-06 4.09302585e-04 5.31323588e-03 5.13052415e-01\n",
      "  2.10678633e-01 7.26907573e-02 2.90571569e-03 3.37265770e-03]]\n"
     ]
    }
   ],
   "source": [
    "print(df.iloc[0,3])#Slecting the column. \n",
    "print(nb.predict_proba(X[0]))"
   ]
  },
  {
   "cell_type": "markdown",
   "metadata": {},
   "source": [
    "Because of the double square brackets, the code gives a matrix of the size, 1x2. Now the code will dive into more messages. The array is two-dimensional (see the brackets). The following code will predict the probability of a send a message by each of the Group Members in percentages."
   ]
  },
  {
   "cell_type": "code",
   "execution_count": 29,
   "metadata": {},
   "outputs": [
    {
     "name": "stdout",
     "output_type": "stream",
     "text": [
      "Message: 0.  mannen morgen is de huisvergadering om 19\n",
      "Bart: 0.17223084541860098, Beerend: 0.0007746321327470985, Bob: 0.017289566736482843, Floris: 0.0012810864371524244, Friso: 1.151789707079279e-06, Guus: 0.00040930258476500986, Joep: 0.005313235879518407, Miguel: 0.5130524153075476, Pim: 0.21067863302548204, Quinten: 0.07269075729771392, Sjoerd: 0.0029057156905143607, Thijmen: 0.0033726576997670224\n",
      "Message: 1.  ik ben voor een normale huisfoto voor het huis\n",
      "Bart: 0.15622792342778227, Beerend: 0.01587504762580733, Bob: 0.03883623634436291, Floris: 0.0019823305116014665, Friso: 2.5343885558008464e-07, Guus: 0.00033314217169006665, Joep: 0.0015120879336924758, Miguel: 0.5181057960900645, Pim: 0.1769023753991702, Quinten: 0.07877372815007291, Sjoerd: 0.010463582046491178, Thijmen: 0.0009874968604070527\n",
      "Message: 2.  maar als iemand dikke ideeën heeft\n",
      "Bart: 0.09345009001151594, Beerend: 0.010269869776910056, Bob: 0.019931046443729374, Floris: 0.0033175525905274903, Friso: 2.225772895612726e-05, Guus: 0.0043822706854986125, Joep: 0.02900445948509339, Miguel: 0.2333651698245883, Pim: 0.3782403145365207, Quinten: 0.22176035892235324, Sjoerd: 0.002721264856069004, Thijmen: 0.003535345138240049\n",
      "Message: 3.  lotte van den brink vraagt of wij toevallig een grijze trui met lange mouwen zonder capuchon hebben liggen\n",
      "Bart: 0.00080226195544532, Beerend: 9.287253785986674e-05, Bob: 0.020172542827567596, Floris: 0.0013387896782947344, Friso: 1.0168348461773972e-07, Guus: 0.0015969281115090909, Joep: 0.0019687949273246553, Miguel: 0.9729573050909511, Pim: 0.0009561368460974191, Quinten: 4.0701216484982103e-05, Sjoerd: 6.226758997378453e-05, Thijmen: 1.1297535011336286e-05\n",
      "Message: 4.  ze is die kwijt\n",
      "Bart: 0.12501985967510437, Beerend: 0.017313337754808464, Bob: 0.20413678229921603, Floris: 0.0239076409674644, Friso: 6.151641734654374e-06, Guus: 0.0024824033578625176, Joep: 0.03010652314536175, Miguel: 0.10253636980036494, Pim: 0.4121352183644799, Quinten: 0.05670507076525834, Sjoerd: 0.01037454374546252, Thijmen: 0.015276098482881285\n",
      "Message: 5.  dan krijgen we wel echt een tebo foto\n",
      "Bart: 0.08994488193118023, Beerend: 0.016820885170161066, Bob: 0.008623766633566038, Floris: 0.0005104440364713304, Friso: 1.0857256420808093e-07, Guus: 4.215788768712681e-05, Joep: 0.00024241326501403318, Miguel: 0.23545938249247844, Pim: 0.2775512052480966, Quinten: 0.36965778231392665, Sjoerd: 0.0008617495144079055, Thijmen: 0.0002852229344486338\n",
      "Message: 6.  dat kiekje is top toch\n",
      "Bart: 0.37385239186662755, Beerend: 0.009419052537538787, Bob: 0.007914679907584602, Floris: 0.0044294289906295515, Friso: 7.933618608756883e-06, Guus: 0.0016346902606710738, Joep: 0.0044251215908133615, Miguel: 0.08748269907705729, Pim: 0.16289995384203193, Quinten: 0.34237147776855253, Sjoerd: 0.0025162785622852945, Thijmen: 0.003046291977597818\n",
      "Message: 7.  ook prima\n",
      "Bart: 0.11548774694083953, Beerend: 0.06372360955805537, Bob: 0.05507244840779247, Floris: 0.005914171368479362, Friso: 0.0005955876595272283, Guus: 0.0049729088386992635, Joep: 0.007923737733750835, Miguel: 0.0855084526715511, Pim: 0.5042154003878916, Quinten: 0.11080915455483559, Sjoerd: 0.02518148111935278, Thijmen: 0.020595300759225568\n",
      "Message: 8.  kan iemand daar even naar kijken die thuis is\n",
      "Bart: 0.15343377598642527, Beerend: 0.0016504167264727151, Bob: 0.05943497118732402, Floris: 0.00024499151920048465, Friso: 5.536320261649713e-09, Guus: 0.00012482489986403593, Joep: 0.0015751334322341114, Miguel: 0.10424348078907461, Pim: 0.6487124164370042, Quinten: 0.02763831306659805, Sjoerd: 0.002714141688897114, Thijmen: 0.00022752873058545426\n",
      "Message: 9.  top\n",
      "Bart: 0.275113789295715, Beerend: 0.06783135554603464, Bob: 0.051639918426162515, Floris: 0.020472576877301776, Friso: 0.004911931441933474, Guus: 0.04063908367444962, Joep: 0.04530485105511629, Miguel: 0.11073994791798884, Pim: 0.14827986006770272, Quinten: 0.16289002078774292, Sjoerd: 0.027188664727252804, Thijmen: 0.044988000182599235\n",
      "Message: 10.  mannen wie kan er woensdag om 17\n",
      "Bart: 0.04971142029337812, Beerend: 0.004305272941995303, Bob: 0.006317237279119111, Floris: 0.004927563799179458, Friso: 7.182925996145354e-07, Guus: 3.2238979384072985e-05, Joep: 0.0026685528631660176, Miguel: 0.15343734873931178, Pim: 0.7103660189607939, Quinten: 0.061396522903322724, Sjoerd: 0.005790130773323669, Thijmen: 0.0010469741744278853\n"
     ]
    }
   ],
   "source": [
    "for i in range(11): #Select 11 messages.\n",
    "    prob = nb.predict_proba(X[i])\n",
    "    print(f\"Message: {i}. {df.iloc[i,3]}\") #Print the message.\n",
    "    print(f\"Bart: {prob[0,0]}, Beerend: {prob[0,1]}, Bob: {prob[0,2]}, Floris: {prob[0,3]}, Friso: {prob[0,4]}, Guus: {prob[0,5]}, Joep: {prob[0,6]}, Miguel: {prob[0,7]}, Pim: {prob[0,8]}, Quinten: {prob[0,9]}, Sjoerd: {prob[0,10]}, Thijmen: {prob[0,11]}\") #Print the Group_Members with probability.\n",
    "\n",
    "    "
   ]
  }
 ],
 "metadata": {
  "kernelspec": {
   "display_name": "Python 3",
   "language": "python",
   "name": "python3"
  },
  "language_info": {
   "codemirror_mode": {
    "name": "ipython",
    "version": 3
   },
   "file_extension": ".py",
   "mimetype": "text/x-python",
   "name": "python",
   "nbconvert_exporter": "python",
   "pygments_lexer": "ipython3",
   "version": "3.7.4"
  }
 },
 "nbformat": 4,
 "nbformat_minor": 2
}
