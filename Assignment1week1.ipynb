{
 "cells": [
  {
   "cell_type": "code",
   "execution_count": 1,
   "metadata": {},
   "outputs": [
    {
     "data": {
      "text/html": [
       "<div>\n",
       "<style scoped>\n",
       "    .dataframe tbody tr th:only-of-type {\n",
       "        vertical-align: middle;\n",
       "    }\n",
       "\n",
       "    .dataframe tbody tr th {\n",
       "        vertical-align: top;\n",
       "    }\n",
       "\n",
       "    .dataframe thead th {\n",
       "        text-align: right;\n",
       "    }\n",
       "</style>\n",
       "<table border=\"1\" class=\"dataframe\">\n",
       "  <thead>\n",
       "    <tr style=\"text-align: right;\">\n",
       "      <th></th>\n",
       "      <th>id</th>\n",
       "      <th>20-6-2013</th>\n",
       "      <th>21-6-2013</th>\n",
       "      <th>22-6-2013</th>\n",
       "      <th>23-6-2013</th>\n",
       "      <th>24-6-2013</th>\n",
       "      <th>25-6-2013</th>\n",
       "      <th>26-6-2013</th>\n",
       "      <th>27-6-2013</th>\n",
       "      <th>28-6-2013</th>\n",
       "      <th>...</th>\n",
       "      <th>4-5-2014</th>\n",
       "      <th>5-5-2014</th>\n",
       "      <th>6-5-2014</th>\n",
       "      <th>7-5-2014</th>\n",
       "      <th>8-5-2014</th>\n",
       "      <th>9-5-2014</th>\n",
       "      <th>10-5-2014</th>\n",
       "      <th>11-5-2014</th>\n",
       "      <th>12-5-2014</th>\n",
       "      <th>13-5-2014</th>\n",
       "    </tr>\n",
       "  </thead>\n",
       "  <tbody>\n",
       "    <tr>\n",
       "      <td>0</td>\n",
       "      <td>1</td>\n",
       "      <td>NaN</td>\n",
       "      <td>NaN</td>\n",
       "      <td>NaN</td>\n",
       "      <td>NaN</td>\n",
       "      <td>NaN</td>\n",
       "      <td>NaN</td>\n",
       "      <td>NaN</td>\n",
       "      <td>NaN</td>\n",
       "      <td>NaN</td>\n",
       "      <td>...</td>\n",
       "      <td>NaN</td>\n",
       "      <td>NaN</td>\n",
       "      <td>NaN</td>\n",
       "      <td>NaN</td>\n",
       "      <td>NaN</td>\n",
       "      <td>NaN</td>\n",
       "      <td>NaN</td>\n",
       "      <td>NaN</td>\n",
       "      <td>NaN</td>\n",
       "      <td>NaN</td>\n",
       "    </tr>\n",
       "    <tr>\n",
       "      <td>1</td>\n",
       "      <td>2</td>\n",
       "      <td>NaN</td>\n",
       "      <td>NaN</td>\n",
       "      <td>NaN</td>\n",
       "      <td>NaN</td>\n",
       "      <td>NaN</td>\n",
       "      <td>641.0</td>\n",
       "      <td>4045.0</td>\n",
       "      <td>2310.0</td>\n",
       "      <td>2480.0</td>\n",
       "      <td>...</td>\n",
       "      <td>NaN</td>\n",
       "      <td>NaN</td>\n",
       "      <td>NaN</td>\n",
       "      <td>NaN</td>\n",
       "      <td>NaN</td>\n",
       "      <td>NaN</td>\n",
       "      <td>NaN</td>\n",
       "      <td>NaN</td>\n",
       "      <td>NaN</td>\n",
       "      <td>NaN</td>\n",
       "    </tr>\n",
       "    <tr>\n",
       "      <td>2</td>\n",
       "      <td>3</td>\n",
       "      <td>NaN</td>\n",
       "      <td>NaN</td>\n",
       "      <td>NaN</td>\n",
       "      <td>NaN</td>\n",
       "      <td>NaN</td>\n",
       "      <td>NaN</td>\n",
       "      <td>NaN</td>\n",
       "      <td>NaN</td>\n",
       "      <td>NaN</td>\n",
       "      <td>...</td>\n",
       "      <td>NaN</td>\n",
       "      <td>NaN</td>\n",
       "      <td>NaN</td>\n",
       "      <td>NaN</td>\n",
       "      <td>NaN</td>\n",
       "      <td>NaN</td>\n",
       "      <td>NaN</td>\n",
       "      <td>NaN</td>\n",
       "      <td>NaN</td>\n",
       "      <td>NaN</td>\n",
       "    </tr>\n",
       "    <tr>\n",
       "      <td>3</td>\n",
       "      <td>4</td>\n",
       "      <td>NaN</td>\n",
       "      <td>NaN</td>\n",
       "      <td>25.0</td>\n",
       "      <td>4067.0</td>\n",
       "      <td>7192.0</td>\n",
       "      <td>154.0</td>\n",
       "      <td>8674.0</td>\n",
       "      <td>8275.0</td>\n",
       "      <td>850.0</td>\n",
       "      <td>...</td>\n",
       "      <td>NaN</td>\n",
       "      <td>NaN</td>\n",
       "      <td>NaN</td>\n",
       "      <td>NaN</td>\n",
       "      <td>NaN</td>\n",
       "      <td>NaN</td>\n",
       "      <td>NaN</td>\n",
       "      <td>NaN</td>\n",
       "      <td>NaN</td>\n",
       "      <td>NaN</td>\n",
       "    </tr>\n",
       "    <tr>\n",
       "      <td>4</td>\n",
       "      <td>5</td>\n",
       "      <td>NaN</td>\n",
       "      <td>NaN</td>\n",
       "      <td>NaN</td>\n",
       "      <td>NaN</td>\n",
       "      <td>NaN</td>\n",
       "      <td>NaN</td>\n",
       "      <td>NaN</td>\n",
       "      <td>NaN</td>\n",
       "      <td>NaN</td>\n",
       "      <td>...</td>\n",
       "      <td>NaN</td>\n",
       "      <td>NaN</td>\n",
       "      <td>NaN</td>\n",
       "      <td>NaN</td>\n",
       "      <td>NaN</td>\n",
       "      <td>NaN</td>\n",
       "      <td>NaN</td>\n",
       "      <td>NaN</td>\n",
       "      <td>NaN</td>\n",
       "      <td>NaN</td>\n",
       "    </tr>\n",
       "  </tbody>\n",
       "</table>\n",
       "<p>5 rows × 329 columns</p>\n",
       "</div>"
      ],
      "text/plain": [
       "   id  20-6-2013  21-6-2013  22-6-2013  23-6-2013  24-6-2013  25-6-2013  \\\n",
       "0   1        NaN        NaN        NaN        NaN        NaN        NaN   \n",
       "1   2        NaN        NaN        NaN        NaN        NaN      641.0   \n",
       "2   3        NaN        NaN        NaN        NaN        NaN        NaN   \n",
       "3   4        NaN        NaN       25.0     4067.0     7192.0      154.0   \n",
       "4   5        NaN        NaN        NaN        NaN        NaN        NaN   \n",
       "\n",
       "   26-6-2013  27-6-2013  28-6-2013  ...  4-5-2014  5-5-2014  6-5-2014  \\\n",
       "0        NaN        NaN        NaN  ...       NaN       NaN       NaN   \n",
       "1     4045.0     2310.0     2480.0  ...       NaN       NaN       NaN   \n",
       "2        NaN        NaN        NaN  ...       NaN       NaN       NaN   \n",
       "3     8674.0     8275.0      850.0  ...       NaN       NaN       NaN   \n",
       "4        NaN        NaN        NaN  ...       NaN       NaN       NaN   \n",
       "\n",
       "   7-5-2014  8-5-2014  9-5-2014  10-5-2014  11-5-2014  12-5-2014  13-5-2014  \n",
       "0       NaN       NaN       NaN        NaN        NaN        NaN        NaN  \n",
       "1       NaN       NaN       NaN        NaN        NaN        NaN        NaN  \n",
       "2       NaN       NaN       NaN        NaN        NaN        NaN        NaN  \n",
       "3       NaN       NaN       NaN        NaN        NaN        NaN        NaN  \n",
       "4       NaN       NaN       NaN        NaN        NaN        NaN        NaN  \n",
       "\n",
       "[5 rows x 329 columns]"
      ]
     },
     "execution_count": 1,
     "metadata": {},
     "output_type": "execute_result"
    }
   ],
   "source": [
    "import seaborn as sns #this is the plotting library I'll be using\n",
    "import pandas as pd #\"as pd\" means that we can use the abbreviation in commands\n",
    "import matplotlib.pyplot as plt #we need Matplotlib for setting the labels in the Seaborn graphs\n",
    "\n",
    "steps = pd.read_csv(\"Assignment 1 - steps data.csv\", delimiter = \";\")\n",
    "survey = pd.read_csv('Assignment 1 - survey data.csv')\n",
    "steps.head(5)"
   ]
  },
  {
   "cell_type": "code",
   "execution_count": 2,
   "metadata": {},
   "outputs": [
    {
     "data": {
      "text/html": [
       "<div>\n",
       "<style scoped>\n",
       "    .dataframe tbody tr th:only-of-type {\n",
       "        vertical-align: middle;\n",
       "    }\n",
       "\n",
       "    .dataframe tbody tr th {\n",
       "        vertical-align: top;\n",
       "    }\n",
       "\n",
       "    .dataframe thead th {\n",
       "        text-align: right;\n",
       "    }\n",
       "</style>\n",
       "<table border=\"1\" class=\"dataframe\">\n",
       "  <thead>\n",
       "    <tr style=\"text-align: right;\">\n",
       "      <th></th>\n",
       "      <th>id</th>\n",
       "      <th>20-6-2013</th>\n",
       "      <th>21-6-2013</th>\n",
       "      <th>22-6-2013</th>\n",
       "      <th>23-6-2013</th>\n",
       "      <th>24-6-2013</th>\n",
       "      <th>25-6-2013</th>\n",
       "      <th>26-6-2013</th>\n",
       "      <th>27-6-2013</th>\n",
       "      <th>28-6-2013</th>\n",
       "      <th>...</th>\n",
       "      <th>13-5-2014</th>\n",
       "      <th>city</th>\n",
       "      <th>gender</th>\n",
       "      <th>age</th>\n",
       "      <th>hh_size</th>\n",
       "      <th>hh_type</th>\n",
       "      <th>education</th>\n",
       "      <th>height</th>\n",
       "      <th>weight</th>\n",
       "      <th>waist</th>\n",
       "    </tr>\n",
       "  </thead>\n",
       "  <tbody>\n",
       "    <tr>\n",
       "      <td>0</td>\n",
       "      <td>1</td>\n",
       "      <td>NaN</td>\n",
       "      <td>NaN</td>\n",
       "      <td>NaN</td>\n",
       "      <td>NaN</td>\n",
       "      <td>NaN</td>\n",
       "      <td>NaN</td>\n",
       "      <td>NaN</td>\n",
       "      <td>NaN</td>\n",
       "      <td>NaN</td>\n",
       "      <td>...</td>\n",
       "      <td>NaN</td>\n",
       "      <td>Montpellier</td>\n",
       "      <td>male</td>\n",
       "      <td>25-34</td>\n",
       "      <td>2</td>\n",
       "      <td>couple</td>\n",
       "      <td>master or doctorate</td>\n",
       "      <td>183.0</td>\n",
       "      <td>62.0</td>\n",
       "      <td>78.0</td>\n",
       "    </tr>\n",
       "    <tr>\n",
       "      <td>1</td>\n",
       "      <td>2</td>\n",
       "      <td>NaN</td>\n",
       "      <td>NaN</td>\n",
       "      <td>NaN</td>\n",
       "      <td>NaN</td>\n",
       "      <td>NaN</td>\n",
       "      <td>641.0</td>\n",
       "      <td>4045.0</td>\n",
       "      <td>2310.0</td>\n",
       "      <td>2480.0</td>\n",
       "      <td>...</td>\n",
       "      <td>NaN</td>\n",
       "      <td>Montpellier</td>\n",
       "      <td>female</td>\n",
       "      <td>25-34</td>\n",
       "      <td>2</td>\n",
       "      <td>couple</td>\n",
       "      <td>high school</td>\n",
       "      <td>163.0</td>\n",
       "      <td>60.0</td>\n",
       "      <td>75.0</td>\n",
       "    </tr>\n",
       "    <tr>\n",
       "      <td>2</td>\n",
       "      <td>3</td>\n",
       "      <td>NaN</td>\n",
       "      <td>NaN</td>\n",
       "      <td>NaN</td>\n",
       "      <td>NaN</td>\n",
       "      <td>NaN</td>\n",
       "      <td>NaN</td>\n",
       "      <td>NaN</td>\n",
       "      <td>NaN</td>\n",
       "      <td>NaN</td>\n",
       "      <td>...</td>\n",
       "      <td>NaN</td>\n",
       "      <td>Lyon</td>\n",
       "      <td>female</td>\n",
       "      <td>25-34</td>\n",
       "      <td>2</td>\n",
       "      <td>couple</td>\n",
       "      <td>master or doctorate</td>\n",
       "      <td>172.0</td>\n",
       "      <td>65.0</td>\n",
       "      <td>60.0</td>\n",
       "    </tr>\n",
       "    <tr>\n",
       "      <td>3</td>\n",
       "      <td>4</td>\n",
       "      <td>NaN</td>\n",
       "      <td>NaN</td>\n",
       "      <td>25.0</td>\n",
       "      <td>4067.0</td>\n",
       "      <td>7192.0</td>\n",
       "      <td>154.0</td>\n",
       "      <td>8674.0</td>\n",
       "      <td>8275.0</td>\n",
       "      <td>850.0</td>\n",
       "      <td>...</td>\n",
       "      <td>NaN</td>\n",
       "      <td>Lyon</td>\n",
       "      <td>male</td>\n",
       "      <td>25-34</td>\n",
       "      <td>3</td>\n",
       "      <td>single parent</td>\n",
       "      <td>bachelor</td>\n",
       "      <td>182.0</td>\n",
       "      <td>85.0</td>\n",
       "      <td>95.0</td>\n",
       "    </tr>\n",
       "    <tr>\n",
       "      <td>4</td>\n",
       "      <td>5</td>\n",
       "      <td>NaN</td>\n",
       "      <td>NaN</td>\n",
       "      <td>NaN</td>\n",
       "      <td>NaN</td>\n",
       "      <td>NaN</td>\n",
       "      <td>NaN</td>\n",
       "      <td>NaN</td>\n",
       "      <td>NaN</td>\n",
       "      <td>NaN</td>\n",
       "      <td>...</td>\n",
       "      <td>NaN</td>\n",
       "      <td>Bordeaux</td>\n",
       "      <td>male</td>\n",
       "      <td>25-34</td>\n",
       "      <td>2</td>\n",
       "      <td>couple</td>\n",
       "      <td>master or doctorate</td>\n",
       "      <td>177.0</td>\n",
       "      <td>70.0</td>\n",
       "      <td>81.0</td>\n",
       "    </tr>\n",
       "  </tbody>\n",
       "</table>\n",
       "<p>5 rows × 338 columns</p>\n",
       "</div>"
      ],
      "text/plain": [
       "   id  20-6-2013  21-6-2013  22-6-2013  23-6-2013  24-6-2013  25-6-2013  \\\n",
       "0   1        NaN        NaN        NaN        NaN        NaN        NaN   \n",
       "1   2        NaN        NaN        NaN        NaN        NaN      641.0   \n",
       "2   3        NaN        NaN        NaN        NaN        NaN        NaN   \n",
       "3   4        NaN        NaN       25.0     4067.0     7192.0      154.0   \n",
       "4   5        NaN        NaN        NaN        NaN        NaN        NaN   \n",
       "\n",
       "   26-6-2013  27-6-2013  28-6-2013  ...  13-5-2014         city  gender  \\\n",
       "0        NaN        NaN        NaN  ...        NaN  Montpellier    male   \n",
       "1     4045.0     2310.0     2480.0  ...        NaN  Montpellier  female   \n",
       "2        NaN        NaN        NaN  ...        NaN         Lyon  female   \n",
       "3     8674.0     8275.0      850.0  ...        NaN         Lyon    male   \n",
       "4        NaN        NaN        NaN  ...        NaN     Bordeaux    male   \n",
       "\n",
       "     age  hh_size        hh_type            education  height  weight  waist  \n",
       "0  25-34        2         couple  master or doctorate   183.0    62.0   78.0  \n",
       "1  25-34        2         couple          high school   163.0    60.0   75.0  \n",
       "2  25-34        2         couple  master or doctorate   172.0    65.0   60.0  \n",
       "3  25-34        3  single parent             bachelor   182.0    85.0   95.0  \n",
       "4  25-34        2         couple  master or doctorate   177.0    70.0   81.0  \n",
       "\n",
       "[5 rows x 338 columns]"
      ]
     },
     "execution_count": 2,
     "metadata": {},
     "output_type": "execute_result"
    }
   ],
   "source": [
    "df = pd.merge(steps, survey, on = 'id') \n",
    "df.head()"
   ]
  },
  {
   "cell_type": "code",
   "execution_count": 13,
   "metadata": {},
   "outputs": [
    {
     "name": "stdout",
     "output_type": "stream",
     "text": [
      "<class 'pandas.core.frame.DataFrame'>\n",
      "Int64Index: 929 entries, 0 to 928\n",
      "Columns: 338 entries, id to waist\n",
      "dtypes: float64(331), int64(2), object(5)\n",
      "memory usage: 2.4+ MB\n"
     ]
    }
   ],
   "source": [
    "df.info()"
   ]
  },
  {
   "cell_type": "code",
   "execution_count": 20,
   "metadata": {},
   "outputs": [
    {
     "data": {
      "text/plain": [
       "80.0     46\n",
       "90.0     46\n",
       "84.0     35\n",
       "83.0     32\n",
       "75.0     30\n",
       "         ..\n",
       "130.0     1\n",
       "56.0      1\n",
       "117.0     1\n",
       "119.0     1\n",
       "131.0     1\n",
       "Name: waist, Length: 69, dtype: int64"
      ]
     },
     "execution_count": 20,
     "metadata": {},
     "output_type": "execute_result"
    }
   ],
   "source": [
    "df['waist'].value_counts() #Get all the values. This may be less useful when there are many values.\n"
   ]
  },
  {
   "cell_type": "code",
   "execution_count": 21,
   "metadata": {},
   "outputs": [],
   "source": [
    "# The handy Pandas function to_numeric converts non-numeric data to NaN. The last argument overrides the errors\n",
    "# Python would normally generate.\n",
    "# The apply method of a dataframe lets us apply a function to all the elements.\n",
    "df['waist'] = df['waist'].apply(pd.to_numeric, errors='coerce')\n",
    "\n",
    "def above_111(x):\n",
    "    if(x > 111.0): \n",
    "        return float('NaN')\n",
    "    else: \n",
    "        return x\n",
    "df['waist'] = df['waist'].apply(above_111)"
   ]
  },
  {
   "cell_type": "code",
   "execution_count": 22,
   "metadata": {},
   "outputs": [
    {
     "data": {
      "text/plain": [
       "90.0     46\n",
       "80.0     46\n",
       "84.0     35\n",
       "83.0     32\n",
       "75.0     30\n",
       "82.0     30\n",
       "85.0     29\n",
       "95.0     28\n",
       "92.0     28\n",
       "87.0     28\n",
       "88.0     28\n",
       "100.0    26\n",
       "70.0     26\n",
       "86.0     25\n",
       "89.0     24\n",
       "76.0     23\n",
       "93.0     22\n",
       "78.0     22\n",
       "73.0     21\n",
       "77.0     18\n",
       "98.0     18\n",
       "97.0     16\n",
       "91.0     16\n",
       "74.0     15\n",
       "99.0     14\n",
       "110.0    14\n",
       "72.0     14\n",
       "65.0     14\n",
       "105.0    14\n",
       "81.0     14\n",
       "79.0     13\n",
       "101.0    12\n",
       "68.0     12\n",
       "96.0     11\n",
       "67.0     11\n",
       "94.0     11\n",
       "69.0      9\n",
       "71.0      8\n",
       "106.0     7\n",
       "60.0      7\n",
       "109.0     7\n",
       "66.0      6\n",
       "104.0     6\n",
       "103.0     6\n",
       "108.0     6\n",
       "111.0     4\n",
       "102.0     4\n",
       "62.0      4\n",
       "107.0     3\n",
       "58.0      2\n",
       "61.0      2\n",
       "64.0      2\n",
       "63.0      2\n",
       "55.0      1\n",
       "53.0      1\n",
       "56.0      1\n",
       "Name: waist, dtype: int64"
      ]
     },
     "execution_count": 22,
     "metadata": {},
     "output_type": "execute_result"
    }
   ],
   "source": [
    "df['waist'].value_counts()"
   ]
  },
  {
   "cell_type": "code",
   "execution_count": 23,
   "metadata": {},
   "outputs": [],
   "source": [
    "df['waist'] = df['waist'].apply(pd.to_numeric, errors='coerce')\n",
    "\n",
    "#To remove the values above 5 we need to create a function that we then apply to the entire column\n",
    "def below_50(x):\n",
    "    if(x < 50): \n",
    "        return float('NaN')\n",
    "    else: \n",
    "        return x\n",
    "df['waist'] = df['waist'].apply(below_50)"
   ]
  },
  {
   "cell_type": "code",
   "execution_count": 25,
   "metadata": {},
   "outputs": [
    {
     "data": {
      "image/png": "[encoded data removed]",
      "text/plain": [
       "<Figure size 432x288 with 1 Axes>"
      ]
     },
     "metadata": {
      "needs_background": "light"
     },
     "output_type": "display_data"
    }
   ],
   "source": [
    "sns.distplot(df['waist'].dropna(), kde=False) #Selecting the rating column. I need to drop the NA's for the plot\n",
    "plt.title('Waist size')\n",
    "plt.xlabel('Waist size (cm)')\n",
    "plt.show()"
   ]
  },
  {
   "cell_type": "code",
   "execution_count": 26,
   "metadata": {},
   "outputs": [
    {
     "data": {
      "text/plain": [
       "170.0    62\n",
       "180.0    53\n",
       "165.0    51\n",
       "175.0    50\n",
       "172.0    45\n",
       "160.0    45\n",
       "168.0    44\n",
       "178.0    36\n",
       "163.0    32\n",
       "169.0    31\n",
       "173.0    29\n",
       "162.0    29\n",
       "167.0    28\n",
       "176.0    28\n",
       "183.0    26\n",
       "182.0    25\n",
       "185.0    24\n",
       "174.0    23\n",
       "171.0    20\n",
       "177.0    19\n",
       "158.0    19\n",
       "181.0    18\n",
       "186.0    17\n",
       "187.0    16\n",
       "164.0    16\n",
       "166.0    15\n",
       "161.0    15\n",
       "179.0    13\n",
       "157.0    11\n",
       "155.0     9\n",
       "156.0     9\n",
       "188.0     9\n",
       "184.0     9\n",
       "159.0     6\n",
       "190.0     6\n",
       "192.0     5\n",
       "153.0     4\n",
       "152.0     4\n",
       "189.0     4\n",
       "154.0     4\n",
       "150.0     3\n",
       "195.0     3\n",
       "193.0     3\n",
       "151.0     3\n",
       "191.0     2\n",
       "197.0     1\n",
       "145.0     1\n",
       "Name: height, dtype: int64"
      ]
     },
     "execution_count": 26,
     "metadata": {},
     "output_type": "execute_result"
    }
   ],
   "source": [
    "df['height'].value_counts()"
   ]
  },
  {
   "cell_type": "code",
   "execution_count": 27,
   "metadata": {
    "scrolled": true
   },
   "outputs": [
    {
     "data": {
      "image/png": "[encoded data removed]",
      "text/plain": [
       "<Figure size 432x288 with 1 Axes>"
      ]
     },
     "metadata": {
      "needs_background": "light"
     },
     "output_type": "display_data"
    }
   ],
   "source": [
    "sns.boxplot(df['height']) #Selecting the rating column. I need to drop the NA's for the plot\n",
    "plt.title('Avvarge user lenght')\n",
    "plt.xlabel('Height in (cm)')\n",
    "plt.show()"
   ]
  },
  {
   "cell_type": "code",
   "execution_count": null,
   "metadata": {},
   "outputs": [],
   "source": []
  },
  {
   "cell_type": "code",
   "execution_count": 29,
   "metadata": {},
   "outputs": [
    {
     "data": {
      "image/png": "[encoded data removed]",
      "text/plain": [
       "<Figure size 432x288 with 1 Axes>"
      ]
     },
     "metadata": {
      "needs_background": "light"
     },
     "output_type": "display_data"
    }
   ],
   "source": [
    "df[\"height\"].name = 'height' #Labeling the variable for plotting\n",
    "height_av = df[\"height\"].dropna() #Selecting the size column. I need to drop the NA's, otherwise Seaborn won't plot\n",
    "sns.distplot(height_av, kde=False)\n",
    "plt.title('height')\n",
    "plt.show()"
   ]
  },
  {
   "cell_type": "code",
   "execution_count": 30,
   "metadata": {},
   "outputs": [
    {
     "name": "stdout",
     "output_type": "stream",
     "text": [
      "The median of height is: 172.0 cm\n",
      "The mean of height is: 171.7545945945946 cm\n"
     ]
    },
    {
     "data": {
      "image/png": "[encoded data removed]",
      "text/plain": [
       "<Figure size 432x288 with 1 Axes>"
      ]
     },
     "metadata": {
      "needs_background": "light"
     },
     "output_type": "display_data"
    }
   ],
   "source": [
    "mean_size = df[\"height\"].mean()\n",
    "median_size = df[\"height\"].median()\n",
    "print(f'The median of height is: {median_size} cm')\n",
    "print(f'The mean of height is: {mean_size} cm')\n",
    "sns.distplot(height_av, kde=False)\n",
    "plt.title('Height of id')\n",
    "plt.axvline(median_size, 0, 100, color='green', label='median') #This adds a vertical line at x-position median_size, from y = 0 to y = 100\n",
    "plt.axvline(mean_size, 0, 100, color='blue', label='mean')\n",
    "plt.legend() #This adds a legend. It works automatically because I've set the labels in the previous lines\n",
    "plt.show()"
   ]
  },
  {
   "cell_type": "code",
   "execution_count": 31,
   "metadata": {},
   "outputs": [
    {
     "name": "stdout",
     "output_type": "stream",
     "text": [
      "20-6-2013     2253.454545\n",
      "21-6-2013     8968.935065\n",
      "22-6-2013    10412.117424\n",
      "23-6-2013     7631.215548\n",
      "24-6-2013     7981.666667\n",
      "25-6-2013     8863.362275\n",
      "26-6-2013     8214.184713\n",
      "27-6-2013     8494.011561\n",
      "28-6-2013     9270.012723\n",
      "29-6-2013     6931.211470\n",
      "30-6-2013     8739.387179\n",
      "dtype: float64\n"
     ]
    }
   ],
   "source": [
    "meanDays = df[['20-6-2013', '21-6-2013', '22-6-2013', '23-6-2013', '24-6-2013', '25-6-2013', '26-6-2013', '27-6-2013',\n",
    "              '28-6-2013', '29-6-2013', '30-6-2013']] #show data of all the days in june\n",
    "meanDays = meanDays.mean() #calculate the mean\n",
    "\n",
    "print(meanDays)"
   ]
  },
  {
   "cell_type": "code",
   "execution_count": 32,
   "metadata": {},
   "outputs": [
    {
     "data": {
      "text/plain": [
       "Text(0, 0.5, 'Steps')"
      ]
     },
     "execution_count": 32,
     "metadata": {},
     "output_type": "execute_result"
    },
    {
     "data": {
      "image/png": "[encoded data removed]",
      "text/plain": [
       "<Figure size 432x288 with 1 Axes>"
      ]
     },
     "metadata": {
      "needs_background": "light"
     },
     "output_type": "display_data"
    }
   ],
   "source": [
    "plotMean = meanDays.plot(kind='bar', title='Mean steps per day in June 2013')\n",
    "plotMean.set_xlabel(\"Date\")\n",
    "plotMean.set_ylabel(\"Steps\")"
   ]
  },
  {
   "cell_type": "code",
   "execution_count": 33,
   "metadata": {},
   "outputs": [
    {
     "data": {
      "image/png": "[encoded data removed]",
      "text/plain": [
       "<Figure size 432x288 with 1 Axes>"
      ]
     },
     "metadata": {
      "needs_background": "light"
     },
     "output_type": "display_data"
    }
   ],
   "source": [
    "sns.boxplot(meanDays)\n",
    "plt.title('Mean steps per day in June 2013')\n",
    "plt.xlabel('Steps per day')\n",
    "plt.show()"
   ]
  },
  {
   "cell_type": "code",
   "execution_count": 34,
   "metadata": {},
   "outputs": [
    {
     "data": {
      "image/png": "[encoded data removed]",
      "text/plain": [
       "<Figure size 432x288 with 1 Axes>"
      ]
     },
     "metadata": {
      "needs_background": "light"
     },
     "output_type": "display_data"
    }
   ],
   "source": [
    "sns.violinplot(meanDays)\n",
    "sns.swarmplot(meanDays, color='purple')\n",
    "plt.title('Mean steps per day in June 2013')\n",
    "plt.ylabel('Frequency')\n",
    "plt.xlabel('Steps per day')\n",
    "plt.show()"
   ]
  },
  {
   "cell_type": "code",
   "execution_count": 40,
   "metadata": {},
   "outputs": [
    {
     "name": "stdout",
     "output_type": "stream",
     "text": [
      "The median steps per day is: 8494.011560693642 steps\n",
      "The mean steps per day is: 7978.141742744361 steps\n"
     ]
    }
   ],
   "source": [
    "mean_size = meanDays.mean()\n",
    "median_size = meanDays.median()\n",
    "\n",
    "print(f'The median steps per day is: {median_size} steps')\n",
    "print(f'The mean steps per day is: {mean_size} steps')\n"
   ]
  },
  {
   "cell_type": "code",
   "execution_count": null,
   "metadata": {},
   "outputs": [],
   "source": []
  }
 ],
 "metadata": {
  "kernelspec": {
   "display_name": "Python 3",
   "language": "python",
   "name": "python3"
  },
  "language_info": {
   "codemirror_mode": {
    "name": "ipython",
    "version": 3
   },
   "file_extension": ".py",
   "mimetype": "text/x-python",
   "name": "python",
   "nbconvert_exporter": "python",
   "pygments_lexer": "ipython3",
   "version": "3.7.4"
  }
 },
 "nbformat": 4,
 "nbformat_minor": 2
}
